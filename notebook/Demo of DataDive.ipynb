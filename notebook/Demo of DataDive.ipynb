{
 "cells": [
  {
   "cell_type": "code",
   "execution_count": 130,
   "metadata": {
    "collapsed": false,
    "deletable": true,
    "editable": true
   },
   "outputs": [],
   "source": [
    "%matplotlib inline\n",
    "import matplotlib\n",
    "matplotlib.style.use('ggplot')\n",
    "\n",
    "from os import chdir\n",
    "chdir('/home/walrus/diveindata/')\n",
    "\n",
    "import diveindata as dv"
   ]
  },
  {
   "cell_type": "code",
   "execution_count": 134,
   "metadata": {
    "collapsed": false
   },
   "outputs": [
    {
     "data": {
      "text/plain": [
       "<module 'diveindata' from '/home/walrus/diveindata/diveindata/__init__.py'>"
      ]
     },
     "execution_count": 134,
     "metadata": {},
     "output_type": "execute_result"
    }
   ],
   "source": [
    "import imp\n",
    "\n",
    "imp.reload(dv)"
   ]
  },
  {
   "cell_type": "code",
   "execution_count": 146,
   "metadata": {
    "collapsed": false,
    "deletable": true,
    "editable": true,
    "scrolled": true
   },
   "outputs": [
    {
     "name": "stderr",
     "output_type": "stream",
     "text": [
      "/home/walrus/.virtualenvs/py3/lib/python3.5/site-packages/IPython/core/interactiveshell.py:2821: DtypeWarning: Columns (4,61,62,66,116,117,123) have mixed types. Specify dtype option on import or set low_memory=False.\n",
      "  if self.run_code(code, result):\n"
     ]
    }
   ],
   "source": [
    "terror = dv.DataInfo('/home/walrus/diveindata/data/globalterrorismdb_0616dist.csv', params={'encoding': 'latin1'})"
   ]
  },
  {
   "cell_type": "markdown",
   "metadata": {
    "deletable": true,
    "editable": true
   },
   "source": [
    "# Columns metadata and basic stats"
   ]
  },
  {
   "cell_type": "code",
   "execution_count": 35,
   "metadata": {
    "collapsed": false,
    "deletable": true,
    "editable": true,
    "scrolled": true
   },
   "outputs": [
    {
     "data": {
      "text/plain": [
       "{'INT_ANY': {'idxmin': -9,\n",
       "  'max': 1,\n",
       "  'mean': -4.2211236700431201,\n",
       "  'min': -9,\n",
       "  'std': 4.6861425686833682,\n",
       "  'sum': -661754,\n",
       "  'type': 'INT',\n",
       "  'uniques': 3},\n",
       " 'INT_IDEO': {'idxmin': -9,\n",
       "  'max': 1,\n",
       "  'mean': -4.7891141275227715,\n",
       "  'min': -9,\n",
       "  'std': 4.5897788910995079,\n",
       "  'sum': -750799,\n",
       "  'type': 'INT',\n",
       "  'uniques': 3},\n",
       " 'INT_LOG': {'idxmin': -9,\n",
       "  'max': 1,\n",
       "  'mean': -4.834645217258184,\n",
       "  'min': -9,\n",
       "  'std': 4.5288624534878359,\n",
       "  'sum': -757937,\n",
       "  'type': 'INT',\n",
       "  'uniques': 3},\n",
       " 'INT_MISC': {'idxmin': -9,\n",
       "  'max': 1,\n",
       "  'mean': 0.093894317862883672,\n",
       "  'min': -9,\n",
       "  'std': 0.60244188893120521,\n",
       "  'sum': 14720,\n",
       "  'type': 'INT',\n",
       "  'uniques': 3},\n",
       " 'addnotes': {'type': 'CATEGORY', 'uniques': 12762},\n",
       " 'alternative': {'equivalents': ['alternative_txt'],\n",
       "  'has_equivalent': True,\n",
       "  'idxmin': 1.0,\n",
       "  'max': 5.0,\n",
       "  'mean': 1.2989354678989933,\n",
       "  'min': 1.0,\n",
       "  'std': 0.68227016215906133,\n",
       "  'sum': 31481.0,\n",
       "  'type': 'FLOAT',\n",
       "  'uniques': 6},\n",
       " 'alternative_txt': {'equivalents': ['alternative'],\n",
       "  'has_equivalent': True,\n",
       "  'type': 'CATEGORY',\n",
       "  'uniques': 6},\n",
       " 'approxdate': {'type': 'CATEGORY', 'uniques': 1427},\n",
       " 'attacktype1': {'equivalents': ['attacktype1_txt'],\n",
       "  'has_equivalent': True,\n",
       "  'idxmin': 1,\n",
       "  'max': 9,\n",
       "  'mean': 3.1870806011277524,\n",
       "  'min': 1,\n",
       "  'std': 1.8700641326881142,\n",
       "  'sum': 499645,\n",
       "  'type': 'INT',\n",
       "  'uniques': 9},\n",
       " 'attacktype1_txt': {'equivalents': ['attacktype1'],\n",
       "  'has_equivalent': True,\n",
       "  'type': 'CATEGORY',\n",
       "  'uniques': 9},\n",
       " 'attacktype2': {'equivalents': ['attacktype2_txt'],\n",
       "  'has_equivalent': True,\n",
       "  'idxmin': 1.0,\n",
       "  'max': 9.0,\n",
       "  'mean': 3.6159887233185661,\n",
       "  'min': 1.0,\n",
       "  'std': 2.2146946075035352,\n",
       "  'sum': 17957.0,\n",
       "  'type': 'FLOAT',\n",
       "  'uniques': 10},\n",
       " 'attacktype2_txt': {'equivalents': ['attacktype2'],\n",
       "  'has_equivalent': True,\n",
       "  'type': 'CATEGORY',\n",
       "  'uniques': 10},\n",
       " 'attacktype3': {'equivalents': ['attacktype3_txt'],\n",
       "  'has_equivalent': True,\n",
       "  'idxmin': 1.0,\n",
       "  'max': 8.0,\n",
       "  'mean': 4.884615384615385,\n",
       "  'min': 1.0,\n",
       "  'std': 2.3102220448717539,\n",
       "  'sum': 1524.0,\n",
       "  'type': 'FLOAT',\n",
       "  'uniques': 9},\n",
       " 'attacktype3_txt': {'equivalents': ['attacktype3'],\n",
       "  'has_equivalent': True,\n",
       "  'type': 'CATEGORY',\n",
       "  'uniques': 9},\n",
       " 'city': {'type': 'CATEGORY', 'uniques': 31325},\n",
       " 'claim2': {'idxmin': -9.0,\n",
       "  'max': 1.0,\n",
       "  'mean': 0.23470319634703196,\n",
       "  'min': -9.0,\n",
       "  'std': 1.2231321911316297,\n",
       "  'sum': 257.0,\n",
       "  'type': 'FLOAT',\n",
       "  'uniques': 4},\n",
       " 'claim3': {'idxmin': 0.0,\n",
       "  'max': 1.0,\n",
       "  'mean': 0.46835443037974683,\n",
       "  'min': 0.0,\n",
       "  'std': 0.500584194715889,\n",
       "  'sum': 74.0,\n",
       "  'type': 'FLOAT',\n",
       "  'uniques': 3},\n",
       " 'claimed': {'idxmin': -9.0,\n",
       "  'max': 2.0,\n",
       "  'mean': -0.0010371727113239399,\n",
       "  'min': -9.0,\n",
       "  'std': 1.2102576705415948,\n",
       "  'sum': -94.0,\n",
       "  'type': 'FLOAT',\n",
       "  'uniques': 5},\n",
       " 'claimmode': {'equivalents': ['claimmode_txt'],\n",
       "  'has_equivalent': True,\n",
       "  'idxmin': 0.0,\n",
       "  'max': 10.0,\n",
       "  'mean': 7.0194335643266044,\n",
       "  'min': 0.0,\n",
       "  'std': 2.706718795807654,\n",
       "  'sum': 93190.0,\n",
       "  'type': 'FLOAT',\n",
       "  'uniques': 12},\n",
       " 'claimmode2': {'equivalents': ['claimmode2_txt'],\n",
       "  'has_equivalent': True,\n",
       "  'idxmin': 1.0,\n",
       "  'max': 10.0,\n",
       "  'mean': 7.3876543209876546,\n",
       "  'min': 1.0,\n",
       "  'std': 2.9901398488789459,\n",
       "  'sum': 2992.0,\n",
       "  'type': 'FLOAT',\n",
       "  'uniques': 10},\n",
       " 'claimmode2_txt': {'equivalents': ['claimmode2'],\n",
       "  'has_equivalent': True,\n",
       "  'type': 'CATEGORY',\n",
       "  'uniques': 10},\n",
       " 'claimmode3': {'equivalents': ['claimmode3_txt'],\n",
       "  'has_equivalent': True,\n",
       "  'idxmin': 1.0,\n",
       "  'max': 10.0,\n",
       "  'mean': 7.5526315789473681,\n",
       "  'min': 1.0,\n",
       "  'std': 3.0524077352896581,\n",
       "  'sum': 574.0,\n",
       "  'type': 'FLOAT',\n",
       "  'uniques': 9},\n",
       " 'claimmode3_txt': {'equivalents': ['claimmode3'],\n",
       "  'has_equivalent': True,\n",
       "  'type': 'CATEGORY',\n",
       "  'uniques': 9},\n",
       " 'claimmode_txt': {'equivalents': ['claimmode'],\n",
       "  'has_equivalent': True,\n",
       "  'type': 'CATEGORY',\n",
       "  'uniques': 12},\n",
       " 'compclaim': {'idxmin': -9.0,\n",
       "  'max': 1.0,\n",
       "  'mean': -6.6511173790410067,\n",
       "  'min': -9.0,\n",
       "  'std': 4.0237197310801118,\n",
       "  'sum': -30655.0,\n",
       "  'type': 'FLOAT',\n",
       "  'uniques': 4},\n",
       " 'corp1': {'type': 'CATEGORY', 'uniques': 29296},\n",
       " 'corp2': {'type': 'CATEGORY', 'uniques': 2345},\n",
       " 'corp3': {'type': 'CATEGORY', 'uniques': 352},\n",
       " 'country': {'equivalents': ['country_txt'],\n",
       "  'has_equivalent': True,\n",
       "  'idxmin': 4,\n",
       "  'max': 1004,\n",
       "  'mean': 133.08740081136938,\n",
       "  'min': 4,\n",
       "  'std': 113.94628974921478,\n",
       "  'sum': 20864378,\n",
       "  'type': 'INT',\n",
       "  'uniques': 206},\n",
       " 'country_txt': {'equivalents': ['country'],\n",
       "  'has_equivalent': True,\n",
       "  'type': 'CATEGORY',\n",
       "  'uniques': 206},\n",
       " 'crit1': {'idxmin': 0,\n",
       "  'max': 1,\n",
       "  'mean': 0.98832699716786165,\n",
       "  'min': 0,\n",
       "  'std': 0.10740957790998934,\n",
       "  'sum': 154942,\n",
       "  'type': 'INT',\n",
       "  'uniques': 2},\n",
       " 'crit2': {'idxmin': 0,\n",
       "  'max': 1,\n",
       "  'mean': 0.99269002117725103,\n",
       "  'min': 0,\n",
       "  'std': 0.085185616860442917,\n",
       "  'sum': 155626,\n",
       "  'type': 'INT',\n",
       "  'uniques': 2},\n",
       " 'crit3': {'idxmin': 0,\n",
       "  'max': 1,\n",
       "  'mean': 0.88291914372464475,\n",
       "  'min': 0,\n",
       "  'std': 0.32151763366457714,\n",
       "  'sum': 138417,\n",
       "  'type': 'INT',\n",
       "  'uniques': 2},\n",
       " 'dbsource': {'type': 'CATEGORY', 'uniques': 26},\n",
       " 'divert': {'type': 'CATEGORY', 'uniques': 143},\n",
       " 'doubtterr': {'idxmin': -9.0,\n",
       "  'max': 1.0,\n",
       "  'mean': -0.63689713020903105,\n",
       "  'min': -9.0,\n",
       "  'std': 2.6214223529200651,\n",
       "  'sum': -99847.0,\n",
       "  'type': 'FLOAT',\n",
       "  'uniques': 4},\n",
       " 'eventid': {'type': 'UNIQUE', 'uniques': 156772},\n",
       " 'extended': {'idxmin': 0,\n",
       "  'max': 1,\n",
       "  'mean': 0.041346669048044293,\n",
       "  'min': 0,\n",
       "  'std': 0.19909137309588576,\n",
       "  'sum': 6482,\n",
       "  'type': 'INT',\n",
       "  'uniques': 2},\n",
       " 'gname': {'equivalents': ['ingroup'],\n",
       "  'has_equivalent': True,\n",
       "  'type': 'CATEGORY',\n",
       "  'uniques': 3290},\n",
       " 'gname2': {'equivalents': ['ingroup2'],\n",
       "  'has_equivalent': True,\n",
       "  'type': 'CATEGORY',\n",
       "  'uniques': 335},\n",
       " 'gname3': {'equivalents': ['ingroup3'],\n",
       "  'has_equivalent': True,\n",
       "  'type': 'CATEGORY',\n",
       "  'uniques': 78},\n",
       " 'gsubname': {'type': 'CATEGORY', 'uniques': 993},\n",
       " 'gsubname2': {'type': 'CATEGORY', 'uniques': 44},\n",
       " 'gsubname3': {'type': 'CATEGORY', 'uniques': 7},\n",
       " 'guncertain1': {'idxmin': 0.0,\n",
       "  'max': 1.0,\n",
       "  'mean': 0.089453559599473126,\n",
       "  'min': 0.0,\n",
       "  'std': 0.28539821493516332,\n",
       "  'sum': 13990.0,\n",
       "  'type': 'FLOAT',\n",
       "  'uniques': 3},\n",
       " 'guncertain2': {'idxmin': 0.0,\n",
       "  'max': 1.0,\n",
       "  'mean': 0.28657487091222034,\n",
       "  'min': 0.0,\n",
       "  'std': 0.45235584689376523,\n",
       "  'sum': 333.0,\n",
       "  'type': 'FLOAT',\n",
       "  'uniques': 3},\n",
       " 'guncertain3': {'idxmin': 0.0,\n",
       "  'max': 1.0,\n",
       "  'mean': 0.26250000000000001,\n",
       "  'min': 0.0,\n",
       "  'std': 0.44137435443704359,\n",
       "  'sum': 42.0,\n",
       "  'type': 'FLOAT',\n",
       "  'uniques': 3},\n",
       " 'hostkidoutcome': {'equivalents': ['hostkidoutcome_txt'],\n",
       "  'has_equivalent': True,\n",
       "  'idxmin': 1.0,\n",
       "  'max': 7.0,\n",
       "  'mean': 4.5921704087507198,\n",
       "  'min': 1.0,\n",
       "  'std': 2.0491841403728412,\n",
       "  'sum': 39883.0,\n",
       "  'type': 'FLOAT',\n",
       "  'uniques': 8},\n",
       " 'hostkidoutcome_txt': {'equivalents': ['hostkidoutcome'],\n",
       "  'has_equivalent': True,\n",
       "  'type': 'CATEGORY',\n",
       "  'uniques': 8},\n",
       " 'iday': {'idxmin': 0,\n",
       "  'max': 31,\n",
       "  'mean': 15.455215217003037,\n",
       "  'min': 0,\n",
       "  'std': 8.8155331157224879,\n",
       "  'sum': 2422945,\n",
       "  'type': 'INT',\n",
       "  'uniques': 32},\n",
       " 'imonth': {'idxmin': 0,\n",
       "  'max': 12,\n",
       "  'mean': 6.4846656290664146,\n",
       "  'min': 0,\n",
       "  'std': 3.3922253591909777,\n",
       "  'sum': 1016614,\n",
       "  'type': 'INT',\n",
       "  'uniques': 13},\n",
       " 'ingroup': {'equivalents': ['gname'],\n",
       "  'has_equivalent': True,\n",
       "  'idxmin': -9,\n",
       "  'max': 100047,\n",
       "  'mean': 4475.8470709055191,\n",
       "  'min': -9,\n",
       "  'std': 10484.350059970258,\n",
       "  'sum': 701687497,\n",
       "  'type': 'INT',\n",
       "  'uniques': 3290},\n",
       " 'ingroup2': {'equivalents': ['gname2'],\n",
       "  'has_equivalent': True,\n",
       "  'idxmin': -9.0,\n",
       "  'max': 50011.0,\n",
       "  'mean': 19255.760459392946,\n",
       "  'min': -9.0,\n",
       "  'std': 15913.313955697273,\n",
       "  'sum': 23472772.0,\n",
       "  'type': 'FLOAT',\n",
       "  'uniques': 335},\n",
       " 'ingroup3': {'equivalents': ['gname3'],\n",
       "  'has_equivalent': True,\n",
       "  'idxmin': -9.0,\n",
       "  'max': 40486.0,\n",
       "  'mean': 19952.298780487807,\n",
       "  'min': -9.0,\n",
       "  'std': 14335.366421683293,\n",
       "  'sum': 3272177.0,\n",
       "  'type': 'FLOAT',\n",
       "  'uniques': 78},\n",
       " 'ishostkid': {'idxmin': -9.0,\n",
       "  'max': 1.0,\n",
       "  'mean': 0.060059772405072993,\n",
       "  'min': -9.0,\n",
       "  'std': 0.41883623514624141,\n",
       "  'sum': 9405.0,\n",
       "  'type': 'FLOAT',\n",
       "  'uniques': 4},\n",
       " 'iyear': {'idxmin': 1970,\n",
       "  'max': 2015,\n",
       "  'mean': 2000.4740833822366,\n",
       "  'min': 1970,\n",
       "  'std': 12.982397186850177,\n",
       "  'sum': 313618323,\n",
       "  'type': 'INT',\n",
       "  'uniques': 45},\n",
       " 'kidhijcountry': {'type': 'CATEGORY', 'uniques': 218},\n",
       " 'latitude': {'idxmin': -53.154612999999998,\n",
       "  'max': 74.633553000000006,\n",
       "  'mean': 23.190988243423597,\n",
       "  'min': -53.154612999999998,\n",
       "  'std': 19.22072269941189,\n",
       "  'sum': 3530897.533025973,\n",
       "  'type': 'FLOAT',\n",
       "  'uniques': 52022},\n",
       " 'location': {'type': 'CATEGORY', 'uniques': 35798},\n",
       " 'longitude': {'idxmin': -176.176447,\n",
       "  'max': 179.36666700000001,\n",
       "  'mean': 24.210466985236085,\n",
       "  'min': -176.176447,\n",
       "  'std': 59.900830798232235,\n",
       "  'sum': 3686116.2299031499,\n",
       "  'type': 'FLOAT',\n",
       "  'uniques': 51633},\n",
       " 'motive': {'type': 'CATEGORY', 'uniques': 11683},\n",
       " 'multiple': {'idxmin': 0,\n",
       "  'max': 1,\n",
       "  'mean': 0.13037404638583419,\n",
       "  'min': 0,\n",
       "  'std': 0.33671557376214656,\n",
       "  'sum': 20439,\n",
       "  'type': 'INT',\n",
       "  'uniques': 2},\n",
       " 'natlty1': {'equivalents': ['natlty1_txt'],\n",
       "  'has_equivalent': True,\n",
       "  'idxmin': 4.0,\n",
       "  'max': 1004.0,\n",
       "  'mean': 127.63543434655146,\n",
       "  'min': 4.0,\n",
       "  'std': 87.60599966458399,\n",
       "  'sum': 19852926.0,\n",
       "  'type': 'FLOAT',\n",
       "  'uniques': 213},\n",
       " 'natlty1_txt': {'equivalents': ['natlty1'],\n",
       "  'has_equivalent': True,\n",
       "  'type': 'CATEGORY',\n",
       "  'uniques': 213},\n",
       " 'natlty2': {'equivalents': ['natlty2_txt'],\n",
       "  'has_equivalent': True,\n",
       "  'idxmin': 4.0,\n",
       "  'max': 1004.0,\n",
       "  'mean': 130.11593023255813,\n",
       "  'min': 4.0,\n",
       "  'std': 122.71411480931565,\n",
       "  'sum': 1118997.0,\n",
       "  'type': 'FLOAT',\n",
       "  'uniques': 155},\n",
       " 'natlty2_txt': {'equivalents': ['natlty2'],\n",
       "  'has_equivalent': True,\n",
       "  'type': 'CATEGORY',\n",
       "  'uniques': 155},\n",
       " 'natlty3': {'equivalents': ['natlty3_txt'],\n",
       "  'has_equivalent': True,\n",
       "  'idxmin': 4.0,\n",
       "  'max': 1004.0,\n",
       "  'mean': 139.28761061946904,\n",
       "  'min': 4.0,\n",
       "  'std': 152.47392610183195,\n",
       "  'sum': 125916.0,\n",
       "  'type': 'FLOAT',\n",
       "  'uniques': 102},\n",
       " 'natlty3_txt': {'equivalents': ['natlty3'],\n",
       "  'has_equivalent': True,\n",
       "  'type': 'CATEGORY',\n",
       "  'uniques': 102},\n",
       " 'ndays': {'idxmin': -99.0,\n",
       "  'max': 1941.0,\n",
       "  'mean': -30.865846247341235,\n",
       "  'min': -99.0,\n",
       "  'std': 113.10890931887432,\n",
       "  'sum': -203159.0,\n",
       "  'type': 'FLOAT',\n",
       "  'uniques': 290},\n",
       " 'nhostkid': {'idxmin': -99.0,\n",
       "  'max': 17000.0,\n",
       "  'mean': 3.9625488107916222,\n",
       "  'min': -99.0,\n",
       "  'std': 211.67170244884184,\n",
       "  'sum': 44650.0,\n",
       "  'type': 'FLOAT',\n",
       "  'uniques': 222},\n",
       " 'nhostkidus': {'idxmin': -99.0,\n",
       "  'max': 86.0,\n",
       "  'mean': -0.39240167662534559,\n",
       "  'min': -99.0,\n",
       "  'std': 7.1895333145748355,\n",
       "  'sum': -4400.0,\n",
       "  'type': 'FLOAT',\n",
       "  'uniques': 29},\n",
       " 'nhours': {'idxmin': -99.0,\n",
       "  'max': 999.0,\n",
       "  'mean': -37.322228952150212,\n",
       "  'min': -99.0,\n",
       "  'std': 87.837036484094014,\n",
       "  'sum': -123238.0,\n",
       "  'type': 'FLOAT',\n",
       "  'uniques': 35},\n",
       " 'nkill': {'idxmin': 0.0,\n",
       "  'max': 1500.0,\n",
       "  'mean': 2.3592374870502684,\n",
       "  'min': 0.0,\n",
       "  'std': 11.42127034765741,\n",
       "  'sum': 348758.99999818002,\n",
       "  'type': 'FLOAT',\n",
       "  'uniques': 339},\n",
       " 'nkillter': {'idxmin': 0.0,\n",
       "  'max': 500.0,\n",
       "  'mean': 0.41996371039123082,\n",
       "  'min': 0.0,\n",
       "  'std': 3.9668992833381096,\n",
       "  'sum': 37958.000000001004,\n",
       "  'type': 'FLOAT',\n",
       "  'uniques': 134},\n",
       " 'nkillus': {'idxmin': 0.0,\n",
       "  'max': 1357.5,\n",
       "  'mean': 0.056274711585332829,\n",
       "  'min': 0.0,\n",
       "  'std': 6.3917231276824413,\n",
       "  'sum': 5195.0,\n",
       "  'type': 'FLOAT',\n",
       "  'uniques': 31},\n",
       " 'nperpcap': {'idxmin': -99.0,\n",
       "  'max': 406.0,\n",
       "  'mean': -1.5723453507827003,\n",
       "  'min': -99.0,\n",
       "  'std': 13.099647483344807,\n",
       "  'sum': -137206.0,\n",
       "  'type': 'FLOAT',\n",
       "  'uniques': 51},\n",
       " 'nperps': {'idxmin': -99.0,\n",
       "  'max': 25000.0,\n",
       "  'mean': -61.504437178888367,\n",
       "  'min': -99.0,\n",
       "  'std': 243.82422130303308,\n",
       "  'sum': -5267240.0,\n",
       "  'type': 'FLOAT',\n",
       "  'uniques': 114},\n",
       " 'nreleased': {'idxmin': -99.0,\n",
       "  'max': 1201.0,\n",
       "  'mean': -27.788634959851759,\n",
       "  'min': -99.0,\n",
       "  'std': 58.524975920758529,\n",
       "  'sum': -224949.0,\n",
       "  'type': 'FLOAT',\n",
       "  'uniques': 156},\n",
       " 'nwound': {'idxmin': 0.0,\n",
       "  'max': 5500.0,\n",
       "  'mean': 3.0899264932806019,\n",
       "  'min': 0.0,\n",
       "  'std': 22.722313053878182,\n",
       "  'sum': 440537.00000000198,\n",
       "  'type': 'FLOAT',\n",
       "  'uniques': 377},\n",
       " 'nwoundte': {'idxmin': 0.0,\n",
       "  'max': 200.0,\n",
       "  'mean': 0.0815830526101603,\n",
       "  'min': 0.0,\n",
       "  'std': 1.3577059214074707,\n",
       "  'sum': 7217.0,\n",
       "  'type': 'FLOAT',\n",
       "  'uniques': 65},\n",
       " 'nwoundus': {'idxmin': 0.0,\n",
       "  'max': 751.0,\n",
       "  'mean': 0.045586861599287466,\n",
       "  'min': 0.0,\n",
       "  'std': 3.4407299631033381,\n",
       "  'sum': 4197.0,\n",
       "  'type': 'FLOAT',\n",
       "  'uniques': 44},\n",
       " 'propcomment': {'type': 'CATEGORY', 'uniques': 17459},\n",
       " 'property': {'idxmin': -9,\n",
       "  'max': 1,\n",
       "  'mean': -0.43405072334345418,\n",
       "  'min': -9,\n",
       "  'std': 3.0319448640017441,\n",
       "  'sum': -68047,\n",
       "  'type': 'INT',\n",
       "  'uniques': 3},\n",
       " 'propextent': {'equivalents': ['propextent_txt'],\n",
       "  'has_equivalent': True,\n",
       "  'idxmin': 1.0,\n",
       "  'max': 4.0,\n",
       "  'mean': 3.3021898069278817,\n",
       "  'min': 1.0,\n",
       "  'std': 0.49305319129649716,\n",
       "  'sum': 186085.0,\n",
       "  'type': 'FLOAT',\n",
       "  'uniques': 5},\n",
       " 'propextent_txt': {'equivalents': ['propextent'],\n",
       "  'has_equivalent': True,\n",
       "  'type': 'CATEGORY',\n",
       "  'uniques': 5},\n",
       " 'propvalue': {'idxmin': -99.0,\n",
       "  'max': 2700000000.0,\n",
       "  'mean': 249620.80636592614,\n",
       "  'min': -99.0,\n",
       "  'std': 17300755.721233137,\n",
       "  'sum': 7816126688.9298792,\n",
       "  'type': 'FLOAT',\n",
       "  'uniques': 605},\n",
       " 'provstate': {'type': 'CATEGORY', 'uniques': 2510},\n",
       " 'ransom': {'idxmin': -9.0,\n",
       "  'max': 1.0,\n",
       "  'mean': -0.14366377243914133,\n",
       "  'min': -9.0,\n",
       "  'std': 1.1937195833558845,\n",
       "  'sum': -10788.0,\n",
       "  'type': 'FLOAT',\n",
       "  'uniques': 4},\n",
       " 'ransomamt': {'idxmin': -99.0,\n",
       "  'max': 1000000000.0,\n",
       "  'mean': 3320127.170334728,\n",
       "  'min': -99.0,\n",
       "  'std': 31876939.232123595,\n",
       "  'sum': 3967551968.5500002,\n",
       "  'type': 'FLOAT',\n",
       "  'uniques': 351},\n",
       " 'ransomamtus': {'idxmin': -99.0,\n",
       "  'max': 132000000.0,\n",
       "  'mean': 545445.05267639901,\n",
       "  'min': -99.0,\n",
       "  'std': 6665966.884489282,\n",
       "  'sum': 224177916.65000001,\n",
       "  'type': 'FLOAT',\n",
       "  'uniques': 22},\n",
       " 'ransomnote': {'type': 'CATEGORY', 'uniques': 297},\n",
       " 'ransompaid': {'idxmin': -99.0,\n",
       "  'max': 41000000.0,\n",
       "  'mean': 431972.09743178176,\n",
       "  'min': -99.0,\n",
       "  'std': 2589892.7713035513,\n",
       "  'sum': 269118616.70000005,\n",
       "  'type': 'FLOAT',\n",
       "  'uniques': 123},\n",
       " 'ransompaidus': {'idxmin': -99.0,\n",
       "  'max': 48000.0,\n",
       "  'mean': 305.19651741293535,\n",
       "  'min': -99.0,\n",
       "  'std': 3409.0276853216646,\n",
       "  'sum': 122689.0,\n",
       "  'type': 'FLOAT',\n",
       "  'uniques': 9},\n",
       " 'region': {'equivalents': ['region_txt'],\n",
       "  'has_equivalent': True,\n",
       "  'idxmin': 1,\n",
       "  'max': 12,\n",
       "  'mean': 6.9700967009414949,\n",
       "  'min': 1,\n",
       "  'std': 2.9678026050631856,\n",
       "  'sum': 1092716,\n",
       "  'type': 'INT',\n",
       "  'uniques': 12},\n",
       " 'region_txt': {'equivalents': ['region'],\n",
       "  'has_equivalent': True,\n",
       "  'type': 'CATEGORY',\n",
       "  'uniques': 12},\n",
       " 'related': {'type': 'CATEGORY', 'uniques': 20030},\n",
       " 'resolution': {'type': 'CATEGORY', 'uniques': 2658},\n",
       " 'scite1': {'type': 'CATEGORY', 'uniques': 66823},\n",
       " 'scite2': {'type': 'CATEGORY', 'uniques': 50240},\n",
       " 'scite3': {'type': 'CATEGORY', 'uniques': 28555},\n",
       " 'specificity': {'idxmin': 1,\n",
       "  'max': 5,\n",
       "  'mean': 1.4526318475237925,\n",
       "  'min': 1,\n",
       "  'std': 1.0169709073052788,\n",
       "  'sum': 227732,\n",
       "  'type': 'INT',\n",
       "  'uniques': 5},\n",
       " 'success': {'idxmin': 0,\n",
       "  'max': 1,\n",
       "  'mean': 0.90361161431888348,\n",
       "  'min': 0,\n",
       "  'std': 0.29512407621110542,\n",
       "  'sum': 141661,\n",
       "  'type': 'INT',\n",
       "  'uniques': 2},\n",
       " 'suicide': {'idxmin': 0,\n",
       "  'max': 1,\n",
       "  'mean': 0.030432730334498507,\n",
       "  'min': 0,\n",
       "  'std': 0.1717753401202016,\n",
       "  'sum': 4771,\n",
       "  'type': 'INT',\n",
       "  'uniques': 2},\n",
       " 'summary': {'type': 'CATEGORY', 'uniques': 88704},\n",
       " 'target1': {'type': 'CATEGORY', 'uniques': 79948},\n",
       " 'target2': {'type': 'CATEGORY', 'uniques': 4563},\n",
       " 'target3': {'type': 'CATEGORY', 'uniques': 632},\n",
       " 'targsubtype1': {'equivalents': ['targsubtype1_txt'],\n",
       "  'has_equivalent': True,\n",
       "  'idxmin': 1.0,\n",
       "  'max': 111.0,\n",
       "  'mean': 46.654884703634174,\n",
       "  'min': 1.0,\n",
       "  'std': 31.10804746151652,\n",
       "  'sum': 6933709.0,\n",
       "  'type': 'FLOAT',\n",
       "  'uniques': 111},\n",
       " 'targsubtype1_txt': {'equivalents': ['targsubtype1'],\n",
       "  'has_equivalent': True,\n",
       "  'type': 'CATEGORY',\n",
       "  'uniques': 111},\n",
       " 'targsubtype2': {'equivalents': ['targsubtype2_txt'],\n",
       "  'has_equivalent': True,\n",
       "  'idxmin': 1.0,\n",
       "  'max': 111.0,\n",
       "  'mean': 54.622623686385644,\n",
       "  'min': 1.0,\n",
       "  'std': 25.830595023453668,\n",
       "  'sum': 462599.0,\n",
       "  'type': 'FLOAT',\n",
       "  'uniques': 104},\n",
       " 'targsubtype2_txt': {'equivalents': ['targsubtype2'],\n",
       "  'has_equivalent': True,\n",
       "  'type': 'CATEGORY',\n",
       "  'uniques': 104},\n",
       " 'targsubtype3': {'equivalents': ['targsubtype3_txt'],\n",
       "  'has_equivalent': True,\n",
       "  'idxmin': 1.0,\n",
       "  'max': 109.0,\n",
       "  'mean': 54.86279069767442,\n",
       "  'min': 1.0,\n",
       "  'std': 26.779003496982764,\n",
       "  'sum': 47182.0,\n",
       "  'type': 'FLOAT',\n",
       "  'uniques': 86},\n",
       " 'targsubtype3_txt': {'equivalents': ['targsubtype3'],\n",
       "  'has_equivalent': True,\n",
       "  'type': 'CATEGORY',\n",
       "  'uniques': 86},\n",
       " 'targtype1': {'equivalents': ['targtype1_txt'],\n",
       "  'has_equivalent': True,\n",
       "  'idxmin': 1,\n",
       "  'max': 22,\n",
       "  'mean': 8.3051118822238656,\n",
       "  'min': 1,\n",
       "  'std': 6.64251830538063,\n",
       "  'sum': 1302009,\n",
       "  'type': 'INT',\n",
       "  'uniques': 22},\n",
       " 'targtype1_txt': {'equivalents': ['targtype1'],\n",
       "  'has_equivalent': True,\n",
       "  'type': 'CATEGORY',\n",
       "  'uniques': 22},\n",
       " 'targtype2': {'equivalents': ['targtype2_txt'],\n",
       "  'has_equivalent': True,\n",
       "  'idxmin': 1.0,\n",
       "  'max': 22.0,\n",
       "  'mean': 10.117858345493321,\n",
       "  'min': 1.0,\n",
       "  'std': 5.7649110534432575,\n",
       "  'sum': 90140.0,\n",
       "  'type': 'FLOAT',\n",
       "  'uniques': 23},\n",
       " 'targtype2_txt': {'equivalents': ['targtype2'],\n",
       "  'has_equivalent': True,\n",
       "  'type': 'CATEGORY',\n",
       "  'uniques': 23},\n",
       " 'targtype3': {'equivalents': ['targtype3_txt'],\n",
       "  'has_equivalent': True,\n",
       "  'idxmin': 1.0,\n",
       "  'max': 22.0,\n",
       "  'mean': 9.7982832618025757,\n",
       "  'min': 1.0,\n",
       "  'std': 5.835194274069373,\n",
       "  'sum': 9132.0,\n",
       "  'type': 'FLOAT',\n",
       "  'uniques': 21},\n",
       " 'targtype3_txt': {'equivalents': ['targtype3'],\n",
       "  'has_equivalent': True,\n",
       "  'type': 'CATEGORY',\n",
       "  'uniques': 21},\n",
       " 'vicinity': {'idxmin': -9,\n",
       "  'max': 1,\n",
       "  'mean': 0.067422754063225579,\n",
       "  'min': -9,\n",
       "  'std': 0.28904050760340855,\n",
       "  'sum': 10570,\n",
       "  'type': 'INT',\n",
       "  'uniques': 3},\n",
       " 'weapdetail': {'type': 'CATEGORY', 'uniques': 16988},\n",
       " 'weapsubtype1': {'equivalents': ['weapsubtype1_txt'],\n",
       "  'has_equivalent': True,\n",
       "  'idxmin': 1.0,\n",
       "  'max': 29.0,\n",
       "  'mean': 10.949519317322579,\n",
       "  'min': 1.0,\n",
       "  'std': 6.4389857794042182,\n",
       "  'sum': 1520505.0,\n",
       "  'type': 'FLOAT',\n",
       "  'uniques': 29},\n",
       " 'weapsubtype1_txt': {'equivalents': ['weapsubtype1'],\n",
       "  'has_equivalent': True,\n",
       "  'type': 'CATEGORY',\n",
       "  'uniques': 29},\n",
       " 'weapsubtype2': {'equivalents': ['weapsubtype2_txt'],\n",
       "  'has_equivalent': True,\n",
       "  'idxmin': 1.0,\n",
       "  'max': 28.0,\n",
       "  'mean': 10.591715976331361,\n",
       "  'min': 1.0,\n",
       "  'std': 7.4922207854013534,\n",
       "  'sum': 98450.0,\n",
       "  'type': 'FLOAT',\n",
       "  'uniques': 27},\n",
       " 'weapsubtype2_txt': {'equivalents': ['weapsubtype2'],\n",
       "  'has_equivalent': True,\n",
       "  'type': 'CATEGORY',\n",
       "  'uniques': 27},\n",
       " 'weapsubtype3': {'equivalents': ['weapsubtype3_txt'],\n",
       "  'has_equivalent': True,\n",
       "  'idxmin': 1.0,\n",
       "  'max': 28.0,\n",
       "  'mean': 11.426493108728943,\n",
       "  'min': 1.0,\n",
       "  'std': 8.2059432409625419,\n",
       "  'sum': 14923.0,\n",
       "  'type': 'FLOAT',\n",
       "  'uniques': 23},\n",
       " 'weapsubtype3_txt': {'equivalents': ['weapsubtype3'],\n",
       "  'has_equivalent': True,\n",
       "  'type': 'CATEGORY',\n",
       "  'uniques': 23},\n",
       " 'weapsubtype4': {'equivalents': ['weapsubtype4_txt'],\n",
       "  'has_equivalent': True,\n",
       "  'idxmin': 2.0,\n",
       "  'max': 28.0,\n",
       "  'mean': 10.788732394366198,\n",
       "  'min': 2.0,\n",
       "  'std': 8.1467179946593848,\n",
       "  'sum': 766.0,\n",
       "  'type': 'FLOAT',\n",
       "  'uniques': 17},\n",
       " 'weapsubtype4_txt': {'equivalents': ['weapsubtype4'],\n",
       "  'has_equivalent': True,\n",
       "  'type': 'CATEGORY',\n",
       "  'uniques': 17},\n",
       " 'weaptype1': {'equivalents': ['weaptype1_txt'],\n",
       "  'has_equivalent': True,\n",
       "  'idxmin': 1,\n",
       "  'max': 13,\n",
       "  'mean': 6.4085869925752048,\n",
       "  'min': 1,\n",
       "  'std': 2.1307853828571552,\n",
       "  'sum': 1004687,\n",
       "  'type': 'INT',\n",
       "  'uniques': 12},\n",
       " 'weaptype1_txt': {'equivalents': ['weaptype1'],\n",
       "  'has_equivalent': True,\n",
       "  'type': 'CATEGORY',\n",
       "  'uniques': 12},\n",
       " 'weaptype2': {'equivalents': ['weaptype2_txt'],\n",
       "  'has_equivalent': True,\n",
       "  'idxmin': 1.0,\n",
       "  'max': 13.0,\n",
       "  'mean': 6.6269086718524921,\n",
       "  'min': 1.0,\n",
       "  'std': 2.0854659636748027,\n",
       "  'sum': 69006.0,\n",
       "  'type': 'FLOAT',\n",
       "  'uniques': 12},\n",
       " 'weaptype2_txt': {'equivalents': ['weaptype2'],\n",
       "  'has_equivalent': True,\n",
       "  'type': 'CATEGORY',\n",
       "  'uniques': 12},\n",
       " 'weaptype3': {'equivalents': ['weaptype3_txt'],\n",
       "  'has_equivalent': True,\n",
       "  'idxmin': 2.0,\n",
       "  'max': 13.0,\n",
       "  'mean': 6.8044692737430168,\n",
       "  'min': 2.0,\n",
       "  'std': 2.0977595110524638,\n",
       "  'sum': 9744.0,\n",
       "  'type': 'FLOAT',\n",
       "  'uniques': 11},\n",
       " 'weaptype3_txt': {'equivalents': ['weaptype3'],\n",
       "  'has_equivalent': True,\n",
       "  'type': 'CATEGORY',\n",
       "  'uniques': 11},\n",
       " 'weaptype4': {'equivalents': ['weaptype4_txt'],\n",
       "  'has_equivalent': True,\n",
       "  'idxmin': 5.0,\n",
       "  'max': 12.0,\n",
       "  'mean': 6.243243243243243,\n",
       "  'min': 5.0,\n",
       "  'std': 1.4971279427652517,\n",
       "  'sum': 462.0,\n",
       "  'type': 'FLOAT',\n",
       "  'uniques': 6},\n",
       " 'weaptype4_txt': {'equivalents': ['weaptype4'],\n",
       "  'has_equivalent': True,\n",
       "  'type': 'CATEGORY',\n",
       "  'uniques': 6}}"
      ]
     },
     "execution_count": 35,
     "metadata": {},
     "output_type": "execute_result"
    }
   ],
   "source": [
    "terror.columns"
   ]
  },
  {
   "cell_type": "code",
   "execution_count": 36,
   "metadata": {
    "collapsed": false,
    "deletable": true,
    "editable": true
   },
   "outputs": [
    {
     "data": {
      "text/plain": [
       "{'idxmin': 0.0,\n",
       " 'max': 1500.0,\n",
       " 'mean': 2.3592374870502684,\n",
       " 'min': 0.0,\n",
       " 'std': 11.42127034765741,\n",
       " 'sum': 348758.99999818002,\n",
       " 'type': 'FLOAT',\n",
       " 'uniques': 339}"
      ]
     },
     "execution_count": 36,
     "metadata": {},
     "output_type": "execute_result"
    }
   ],
   "source": [
    "terror.columns['nkill']"
   ]
  },
  {
   "cell_type": "code",
   "execution_count": 37,
   "metadata": {
    "collapsed": false,
    "deletable": true,
    "editable": true
   },
   "outputs": [
    {
     "data": {
      "text/plain": [
       "{'equivalents': ['country'],\n",
       " 'has_equivalent': True,\n",
       " 'type': 'CATEGORY',\n",
       " 'uniques': 206}"
      ]
     },
     "execution_count": 37,
     "metadata": {},
     "output_type": "execute_result"
    }
   ],
   "source": [
    "terror.columns['country_txt']"
   ]
  },
  {
   "cell_type": "markdown",
   "metadata": {
    "deletable": true,
    "editable": true
   },
   "source": [
    "# Group by region"
   ]
  },
  {
   "cell_type": "code",
   "execution_count": 179,
   "metadata": {
    "collapsed": false,
    "deletable": true,
    "editable": true,
    "scrolled": false
   },
   "outputs": [
    {
     "data": {
      "text/plain": [
       "<matplotlib.axes._subplots.AxesSubplot at 0x7fa667284c88>"
      ]
     },
     "execution_count": 179,
     "metadata": {},
     "output_type": "execute_result"
    },
    {
     "data": {
      "image/png": "[encoded data removed]",
      "text/plain": [
       "<matplotlib.figure.Figure at 0x7fa667210470>"
      ]
     },
     "metadata": {},
     "output_type": "display_data"
    }
   ],
   "source": [
    "terror.bar_groups([('region_txt', ['North America', 'Middle East & North Africa'])], 'nkill', aggs=['sum', 'count']).plot.barh()"
   ]
  },
  {
   "cell_type": "markdown",
   "metadata": {
    "deletable": true,
    "editable": true
   },
   "source": [
    "# Filter a list of regions"
   ]
  },
  {
   "cell_type": "code",
   "execution_count": 37,
   "metadata": {
    "collapsed": false,
    "deletable": true,
    "editable": true
   },
   "outputs": [
    {
     "data": {
      "text/plain": [
       "<matplotlib.axes._subplots.AxesSubplot at 0x7fa688709860>"
      ]
     },
     "execution_count": 37,
     "metadata": {},
     "output_type": "execute_result"
    },
    {
     "data": {
      "image/png": "[encoded data removed]",
      "text/plain": [
       "<matplotlib.figure.Figure at 0x7fa6886f17b8>"
      ]
     },
     "metadata": {},
     "output_type": "display_data"
    }
   ],
   "source": [
    "terror.bar_groups([('region_txt', ['North America', 'Middle East & North Africa'])]).plot.barh()"
   ]
  },
  {
   "cell_type": "markdown",
   "metadata": {
    "deletable": true,
    "editable": true
   },
   "source": [
    "# Select multiple columns"
   ]
  },
  {
   "cell_type": "code",
   "execution_count": 147,
   "metadata": {
    "collapsed": false,
    "deletable": true,
    "editable": true
   },
   "outputs": [
    {
     "data": {
      "image/png": "[encoded data removed]",
      "text/plain": [
       "<matplotlib.figure.Figure at 0x7fa66fc53438>"
      ]
     },
     "metadata": {},
     "output_type": "display_data"
    }
   ],
   "source": [
    "# If 'level = 1' we use column 1 ('arracktype1_txt') for the groups\n",
    "\n",
    "tbg = terror.bar_groups(['region_txt', 'attacktype1_txt']).plot.barh(figsize=(20,30))"
   ]
  },
  {
   "cell_type": "code",
   "execution_count": 148,
   "metadata": {
    "collapsed": false,
    "deletable": true,
    "editable": true
   },
   "outputs": [
    {
     "data": {
      "image/png": "[encoded data removed]",
      "text/plain": [
       "<matplotlib.figure.Figure at 0x7fa66fc59e80>"
      ]
     },
     "metadata": {},
     "output_type": "display_data"
    }
   ],
   "source": [
    "# If 'level = 0' we use column 0 ('region_txt') for the groups\n",
    "\n",
    "tbg = terror.bar_groups(['region_txt', 'attacktype1_txt']).plot.barh(figsize=(20,20))"
   ]
  },
  {
   "cell_type": "markdown",
   "metadata": {
    "deletable": true,
    "editable": true
   },
   "source": [
    "# Multiple columns and filtering"
   ]
  },
  {
   "cell_type": "code",
   "execution_count": 149,
   "metadata": {
    "collapsed": false,
    "deletable": true,
    "editable": true
   },
   "outputs": [
    {
     "data": {
      "image/png": "[encoded data removed]",
      "text/plain": [
       "<matplotlib.figure.Figure at 0x7fa66f949b38>"
      ]
     },
     "metadata": {},
     "output_type": "display_data"
    }
   ],
   "source": [
    "tbg =terror.bar_groups([('region_txt', ['North America', 'Middle East & North Africa']), 'attacktype1_txt']).plot.barh()"
   ]
  },
  {
   "cell_type": "code",
   "execution_count": 152,
   "metadata": {
    "collapsed": false,
    "deletable": true,
    "editable": true
   },
   "outputs": [
    {
     "data": {
      "image/png": "[encoded data removed]",
      "text/plain": [
       "<matplotlib.figure.Figure at 0x7fa66ce83f60>"
      ]
     },
     "metadata": {},
     "output_type": "display_data"
    }
   ],
   "source": [
    "tbg = terror.bar_groups([('region_txt', ['North America', 'Middle East & North Africa']), 'attacktype1_txt'], level=1).plot.barh()"
   ]
  },
  {
   "cell_type": "code",
   "execution_count": 153,
   "metadata": {
    "collapsed": false,
    "deletable": true,
    "editable": true
   },
   "outputs": [
    {
     "data": {
      "image/png": "[encoded data removed]",
      "text/plain": [
       "<matplotlib.figure.Figure at 0x7fa66df75748>"
      ]
     },
     "metadata": {},
     "output_type": "display_data"
    }
   ],
   "source": [
    "tbg = terror.bar_groups([('country_txt', 'Iraq'), 'attacktype1_txt']).plot.barh()"
   ]
  },
  {
   "cell_type": "code",
   "execution_count": 154,
   "metadata": {
    "collapsed": false,
    "deletable": true,
    "editable": true
   },
   "outputs": [
    {
     "data": {
      "image/png": "[encoded data removed]",
      "text/plain": [
       "<matplotlib.figure.Figure at 0x7fa66df5e320>"
      ]
     },
     "metadata": {},
     "output_type": "display_data"
    }
   ],
   "source": [
    "tbg = terror.bar_groups([('country_txt', ['Iraq', 'United States']), 'attacktype1_txt']).plot.barh()"
   ]
  },
  {
   "cell_type": "markdown",
   "metadata": {
    "deletable": true,
    "editable": true
   },
   "source": [
    "# Select another column to calculate\n",
    "\n",
    "By default the bar graph is going to display the count of entries in a given category. If you pass a column name, it is going to use it for the weight of the bar."
   ]
  },
  {
   "cell_type": "code",
   "execution_count": 67,
   "metadata": {
    "collapsed": false,
    "deletable": true,
    "editable": true
   },
   "outputs": [
    {
     "data": {
      "text/plain": [
       "<matplotlib.axes._subplots.AxesSubplot at 0x7fa682486ac8>"
      ]
     },
     "execution_count": 67,
     "metadata": {},
     "output_type": "execute_result"
    },
    {
     "data": {
      "image/png": "[encoded data removed]",
      "text/plain": [
       "<matplotlib.figure.Figure at 0x7fa6828bab00>"
      ]
     },
     "metadata": {},
     "output_type": "display_data"
    }
   ],
   "source": [
    "terror.bar_groups([('country_txt', ['Iraq', 'United States'])], 'nkill').plot.barh()"
   ]
  },
  {
   "cell_type": "markdown",
   "metadata": {
    "deletable": true,
    "editable": true
   },
   "source": [
    "The default is to sum the values in this column, if you want other types of aggregation, you can pass a argument 'aggs' with possible values as ['sum', 'count', 'mean', 'std']:"
   ]
  },
  {
   "cell_type": "code",
   "execution_count": 68,
   "metadata": {
    "collapsed": false,
    "deletable": true,
    "editable": true
   },
   "outputs": [
    {
     "data": {
      "text/plain": [
       "<matplotlib.axes._subplots.AxesSubplot at 0x7fa68247b9b0>"
      ]
     },
     "execution_count": 68,
     "metadata": {},
     "output_type": "execute_result"
    },
    {
     "data": {
      "image/png": "[encoded data removed]",
      "text/plain": [
       "<matplotlib.figure.Figure at 0x7fa682403400>"
      ]
     },
     "metadata": {},
     "output_type": "display_data"
    }
   ],
   "source": [
    "terror.bar_groups([('country_txt', ['Iraq', 'United States'])], 'nkill', aggs=['count', 'sum']).plot.barh()"
   ]
  },
  {
   "cell_type": "code",
   "execution_count": 155,
   "metadata": {
    "collapsed": false
   },
   "outputs": [
    {
     "data": {
      "image/png": "[encoded data removed]",
      "text/plain": [
       "<matplotlib.figure.Figure at 0x7fa66a895dd8>"
      ]
     },
     "metadata": {},
     "output_type": "display_data"
    }
   ],
   "source": [
    "tbg = terror.bar_groups([('region_txt', 'Middle East & North Africa'), 'country_txt']).plot.barh()"
   ]
  },
  {
   "cell_type": "code",
   "execution_count": 16,
   "metadata": {
    "collapsed": false
   },
   "outputs": [
    {
     "data": {
      "text/plain": [
       "array(['Central America & Caribbean', 'North America', 'Southeast Asia',\n",
       "       'Western Europe', 'East Asia', 'South America', 'Eastern Europe',\n",
       "       'Sub-Saharan Africa', 'Middle East & North Africa',\n",
       "       'Australasia & Oceania', 'South Asia', 'Central Asia'], dtype=object)"
      ]
     },
     "execution_count": 16,
     "metadata": {},
     "output_type": "execute_result"
    }
   ],
   "source": [
    "terror.data.region_txt.unique()"
   ]
  },
  {
   "cell_type": "code",
   "execution_count": 22,
   "metadata": {
    "collapsed": true
   },
   "outputs": [],
   "source": [
    "us = terror.bar_groups([('region_txt', 'Middle East & North Africa'), 'country_txt']).unstack(level=0)"
   ]
  },
  {
   "cell_type": "code",
   "execution_count": 27,
   "metadata": {
    "collapsed": false
   },
   "outputs": [
    {
     "ename": "TypeError",
     "evalue": "sort_values() missing 1 required positional argument: 'by'",
     "output_type": "error",
     "traceback": [
      "\u001b[0;31m---------------------------------------------------------------------------\u001b[0m",
      "\u001b[0;31mTypeError\u001b[0m                                 Traceback (most recent call last)",
      "\u001b[0;32m<ipython-input-27-653e6f91c67d>\u001b[0m in \u001b[0;36m<module>\u001b[0;34m()\u001b[0m\n\u001b[0;32m----> 1\u001b[0;31m \u001b[0mus\u001b[0m\u001b[0;34m.\u001b[0m\u001b[0msort_values\u001b[0m\u001b[0;34m(\u001b[0m\u001b[0;34m)\u001b[0m\u001b[0;34m\u001b[0m\u001b[0m\n\u001b[0m",
      "\u001b[0;31mTypeError\u001b[0m: sort_values() missing 1 required positional argument: 'by'"
     ]
    }
   ],
   "source": [
    "us.sort_values()"
   ]
  },
  {
   "cell_type": "code",
   "execution_count": 42,
   "metadata": {
    "collapsed": false
   },
   "outputs": [
    {
     "data": {
      "text/plain": [
       "<matplotlib.axes._subplots.AxesSubplot at 0x7fa688179c88>"
      ]
     },
     "execution_count": 42,
     "metadata": {},
     "output_type": "execute_result"
    },
    {
     "data": {
      "image/png": "[encoded data removed]",
      "text/plain": [
       "<matplotlib.figure.Figure at 0x7fa688148240>"
      ]
     },
     "metadata": {},
     "output_type": "display_data"
    }
   ],
   "source": [
    "us.sort_values(us.columns[0])[-10:].plot.barh()"
   ]
  },
  {
   "cell_type": "code",
   "execution_count": 45,
   "metadata": {
    "collapsed": false
   },
   "outputs": [
    {
     "data": {
      "text/plain": [
       "<matplotlib.axes._subplots.AxesSubplot at 0x7fa683f71630>"
      ]
     },
     "execution_count": 45,
     "metadata": {},
     "output_type": "execute_result"
    },
    {
     "data": {
      "image/png": "[encoded data removed]",
      "text/plain": [
       "<matplotlib.figure.Figure at 0x7fa683fcf208>"
      ]
     },
     "metadata": {},
     "output_type": "display_data"
    }
   ],
   "source": [
    "us.sort_values(us.columns[0])[:-10].plot.barh()"
   ]
  },
  {
   "cell_type": "code",
   "execution_count": 46,
   "metadata": {
    "collapsed": false
   },
   "outputs": [
    {
     "data": {
      "text/plain": [
       "<matplotlib.axes._subplots.AxesSubplot at 0x7fa683f4db38>"
      ]
     },
     "execution_count": 46,
     "metadata": {},
     "output_type": "execute_result"
    },
    {
     "data": {
      "image/png": "[encoded data removed]",
      "text/plain": [
       "<matplotlib.figure.Figure at 0x7fa683f69828>"
      ]
     },
     "metadata": {},
     "output_type": "display_data"
    }
   ],
   "source": [
    "us.sort_values(us.columns[0]).plot.barh()"
   ]
  },
  {
   "cell_type": "code",
   "execution_count": 186,
   "metadata": {
    "collapsed": true
   },
   "outputs": [],
   "source": [
    "polkil = dv.DataInfo('/home/walrus/redi/data-analysis/Project/database.csv')"
   ]
  },
  {
   "cell_type": "code",
   "execution_count": 70,
   "metadata": {
    "collapsed": false
   },
   "outputs": [
    {
     "data": {
      "text/plain": [
       "{'age': {'idxmin': 6.0,\n",
       "  'max': 86.0,\n",
       "  'mean': 36.484516436398287,\n",
       "  'min': 6.0,\n",
       "  'std': 12.873999758163912,\n",
       "  'sum': 76581.0,\n",
       "  'type': 'FLOAT',\n",
       "  'uniques': 72},\n",
       " 'armed': {'type': 'CATEGORY', 'uniques': 65},\n",
       " 'body_camera': {'idxmin': False,\n",
       "  'max': True,\n",
       "  'mean': 0.1069094304388422,\n",
       "  'min': False,\n",
       "  'std': 0.30907021858111955,\n",
       "  'sum': 229,\n",
       "  'type': 'INT',\n",
       "  'uniques': 2},\n",
       " 'city': {'type': 'CATEGORY', 'uniques': 1247},\n",
       " 'date': {'type': 'CATEGORY', 'uniques': 739},\n",
       " 'flee': {'type': 'CATEGORY', 'uniques': 5},\n",
       " 'gender': {'type': 'CATEGORY', 'uniques': 3},\n",
       " 'id': {'type': 'UNIQUE', 'uniques': 2142},\n",
       " 'manner_of_death': {'type': 'CATEGORY', 'uniques': 2},\n",
       " 'name': {'type': 'CATEGORY', 'uniques': 2119},\n",
       " 'race': {'type': 'CATEGORY', 'uniques': 7},\n",
       " 'signs_of_mental_illness': {'idxmin': False,\n",
       "  'max': True,\n",
       "  'mean': 0.24743230625583568,\n",
       "  'min': False,\n",
       "  'std': 0.43162082114768874,\n",
       "  'sum': 530,\n",
       "  'type': 'INT',\n",
       "  'uniques': 2},\n",
       " 'state': {'type': 'CATEGORY', 'uniques': 51},\n",
       " 'threat_level': {'type': 'CATEGORY', 'uniques': 3}}"
      ]
     },
     "execution_count": 70,
     "metadata": {},
     "output_type": "execute_result"
    }
   ],
   "source": [
    "polkil.columns"
   ]
  },
  {
   "cell_type": "code",
   "execution_count": 118,
   "metadata": {
    "collapsed": false
   },
   "outputs": [
    {
     "data": {
      "text/plain": [
       "<matplotlib.axes._subplots.AxesSubplot at 0x7fa65f60ce80>"
      ]
     },
     "execution_count": 118,
     "metadata": {},
     "output_type": "execute_result"
    },
    {
     "data": {
      "image/png": "[encoded data removed]",
      "text/plain": [
       "<matplotlib.figure.Figure at 0x7fa66fdcbf98>"
      ]
     },
     "metadata": {},
     "output_type": "display_data"
    }
   ],
   "source": [
    "polkil.bar_groups(['manner_of_death']).plot.barh()"
   ]
  },
  {
   "cell_type": "code",
   "execution_count": 109,
   "metadata": {
    "collapsed": false
   },
   "outputs": [
    {
     "data": {
      "text/plain": [
       "<matplotlib.axes._subplots.AxesSubplot at 0x7fa65f8f21d0>"
      ]
     },
     "execution_count": 109,
     "metadata": {},
     "output_type": "execute_result"
    },
    {
     "data": {
      "image/png": "[encoded data removed]",
      "text/plain": [
       "<matplotlib.figure.Figure at 0x7fa66fc4f9e8>"
      ]
     },
     "metadata": {},
     "output_type": "display_data"
    }
   ],
   "source": [
    "polkil.bar_groups(['race']).plot.barh()"
   ]
  },
  {
   "cell_type": "code",
   "execution_count": 80,
   "metadata": {
    "collapsed": false
   },
   "outputs": [
    {
     "data": {
      "text/plain": [
       "<matplotlib.axes._subplots.AxesSubplot at 0x7fa681ecbe10>"
      ]
     },
     "execution_count": 80,
     "metadata": {},
     "output_type": "execute_result"
    },
    {
     "data": {
      "image/png": "[encoded data removed]",
      "text/plain": [
       "<matplotlib.figure.Figure at 0x7fa681eb8470>"
      ]
     },
     "metadata": {},
     "output_type": "display_data"
    }
   ],
   "source": [
    "polkil.bar_groups(['gender']).plot.barh()"
   ]
  },
  {
   "cell_type": "code",
   "execution_count": 144,
   "metadata": {
    "collapsed": false,
    "scrolled": false
   },
   "outputs": [
    {
     "data": {
      "text/plain": [
       "<matplotlib.axes._subplots.AxesSubplot at 0x7fa65ee9eac8>"
      ]
     },
     "execution_count": 144,
     "metadata": {},
     "output_type": "execute_result"
    },
    {
     "data": {
      "image/png": "[encoded data removed]",
      "text/plain": [
       "<matplotlib.figure.Figure at 0x7fa65eeb02b0>"
      ]
     },
     "metadata": {},
     "output_type": "display_data"
    }
   ],
   "source": [
    "polkil.bar_groups([('state', ['TX', 'CA', 'WA', 'NJ']), 'gender']).plot.barh()"
   ]
  },
  {
   "cell_type": "code",
   "execution_count": 89,
   "metadata": {
    "collapsed": false
   },
   "outputs": [
    {
     "data": {
      "text/plain": [
       "array(['WA', 'OR', 'KS', 'CA', 'CO', 'OK', 'AZ', 'IA', 'PA', 'TX', 'OH',\n",
       "       'LA', 'MT', 'UT', 'AR', 'IL', 'NV', 'NM', 'MN', 'MO', 'VA', 'NJ',\n",
       "       'IN', 'KY', 'MA', 'NH', 'FL', 'ID', 'MD', 'NE', 'MI', 'GA', 'TN',\n",
       "       'NC', 'AK', 'NY', 'ME', 'AL', 'MS', 'WI', 'SC', 'DE', 'DC', 'WV',\n",
       "       'HI', 'WY', 'ND', 'CT', 'SD', 'VT', 'RI'], dtype=object)"
      ]
     },
     "execution_count": 89,
     "metadata": {},
     "output_type": "execute_result"
    }
   ],
   "source": [
    "polkil.data.state.unique()"
   ]
  },
  {
   "cell_type": "code",
   "execution_count": 95,
   "metadata": {
    "collapsed": false,
    "scrolled": true
   },
   "outputs": [
    {
     "data": {
      "text/html": [
       "<div>\n",
       "<table border=\"1\" class=\"dataframe\">\n",
       "  <thead>\n",
       "    <tr style=\"text-align: right;\">\n",
       "      <th></th>\n",
       "      <th>id</th>\n",
       "      <th>name</th>\n",
       "      <th>date</th>\n",
       "      <th>manner_of_death</th>\n",
       "      <th>armed</th>\n",
       "      <th>age</th>\n",
       "      <th>gender</th>\n",
       "      <th>race</th>\n",
       "      <th>city</th>\n",
       "      <th>state</th>\n",
       "      <th>signs_of_mental_illness</th>\n",
       "      <th>threat_level</th>\n",
       "      <th>flee</th>\n",
       "      <th>body_camera</th>\n",
       "    </tr>\n",
       "  </thead>\n",
       "  <tbody>\n",
       "    <tr>\n",
       "      <th>11</th>\n",
       "      <td>21</td>\n",
       "      <td>Ron Sneed</td>\n",
       "      <td>2015-01-07</td>\n",
       "      <td>shot</td>\n",
       "      <td>gun</td>\n",
       "      <td>31.0</td>\n",
       "      <td>M</td>\n",
       "      <td>B</td>\n",
       "      <td>Freeport</td>\n",
       "      <td>TX</td>\n",
       "      <td>False</td>\n",
       "      <td>attack</td>\n",
       "      <td>Not fleeing</td>\n",
       "      <td>False</td>\n",
       "    </tr>\n",
       "    <tr>\n",
       "      <th>20</th>\n",
       "      <td>325</td>\n",
       "      <td>Andy Martinez</td>\n",
       "      <td>2015-01-09</td>\n",
       "      <td>shot</td>\n",
       "      <td>gun</td>\n",
       "      <td>33.0</td>\n",
       "      <td>M</td>\n",
       "      <td>H</td>\n",
       "      <td>El Paso</td>\n",
       "      <td>TX</td>\n",
       "      <td>False</td>\n",
       "      <td>attack</td>\n",
       "      <td>Not fleeing</td>\n",
       "      <td>False</td>\n",
       "    </tr>\n",
       "    <tr>\n",
       "      <th>25</th>\n",
       "      <td>48</td>\n",
       "      <td>Richard McClendon</td>\n",
       "      <td>2015-01-13</td>\n",
       "      <td>shot</td>\n",
       "      <td>knife</td>\n",
       "      <td>43.0</td>\n",
       "      <td>M</td>\n",
       "      <td>W</td>\n",
       "      <td>Jourdanton</td>\n",
       "      <td>TX</td>\n",
       "      <td>True</td>\n",
       "      <td>other</td>\n",
       "      <td>Not fleeing</td>\n",
       "      <td>False</td>\n",
       "    </tr>\n",
       "    <tr>\n",
       "      <th>30</th>\n",
       "      <td>54</td>\n",
       "      <td>Robert Edwards</td>\n",
       "      <td>2015-01-14</td>\n",
       "      <td>shot</td>\n",
       "      <td>gun</td>\n",
       "      <td>68.0</td>\n",
       "      <td>M</td>\n",
       "      <td>W</td>\n",
       "      <td>Lake Jackson</td>\n",
       "      <td>TX</td>\n",
       "      <td>False</td>\n",
       "      <td>attack</td>\n",
       "      <td>Not fleeing</td>\n",
       "      <td>False</td>\n",
       "    </tr>\n",
       "    <tr>\n",
       "      <th>37</th>\n",
       "      <td>67</td>\n",
       "      <td>Scott Hall</td>\n",
       "      <td>2015-01-16</td>\n",
       "      <td>shot</td>\n",
       "      <td>gun</td>\n",
       "      <td>41.0</td>\n",
       "      <td>M</td>\n",
       "      <td>W</td>\n",
       "      <td>Mabank</td>\n",
       "      <td>TX</td>\n",
       "      <td>False</td>\n",
       "      <td>attack</td>\n",
       "      <td>Car</td>\n",
       "      <td>False</td>\n",
       "    </tr>\n",
       "    <tr>\n",
       "      <th>41</th>\n",
       "      <td>78</td>\n",
       "      <td>Daniel Brumley</td>\n",
       "      <td>2015-01-17</td>\n",
       "      <td>shot</td>\n",
       "      <td>knife</td>\n",
       "      <td>27.0</td>\n",
       "      <td>M</td>\n",
       "      <td>H</td>\n",
       "      <td>Fort Worth</td>\n",
       "      <td>TX</td>\n",
       "      <td>False</td>\n",
       "      <td>attack</td>\n",
       "      <td>Not fleeing</td>\n",
       "      <td>False</td>\n",
       "    </tr>\n",
       "    <tr>\n",
       "      <th>47</th>\n",
       "      <td>88</td>\n",
       "      <td>Miguel Angel de Santos-Rodriguez</td>\n",
       "      <td>2015-01-21</td>\n",
       "      <td>shot</td>\n",
       "      <td>gun</td>\n",
       "      <td>36.0</td>\n",
       "      <td>M</td>\n",
       "      <td>H</td>\n",
       "      <td>Chapeno</td>\n",
       "      <td>TX</td>\n",
       "      <td>False</td>\n",
       "      <td>attack</td>\n",
       "      <td>Foot</td>\n",
       "      <td>False</td>\n",
       "    </tr>\n",
       "    <tr>\n",
       "      <th>50</th>\n",
       "      <td>99</td>\n",
       "      <td>Tiano Meton</td>\n",
       "      <td>2015-01-22</td>\n",
       "      <td>shot</td>\n",
       "      <td>toy weapon</td>\n",
       "      <td>25.0</td>\n",
       "      <td>M</td>\n",
       "      <td>B</td>\n",
       "      <td>Sierra Blanca</td>\n",
       "      <td>TX</td>\n",
       "      <td>False</td>\n",
       "      <td>attack</td>\n",
       "      <td>Car</td>\n",
       "      <td>False</td>\n",
       "    </tr>\n",
       "    <tr>\n",
       "      <th>51</th>\n",
       "      <td>100</td>\n",
       "      <td>Kristiana Coignard</td>\n",
       "      <td>2015-01-22</td>\n",
       "      <td>shot and Tasered</td>\n",
       "      <td>knife</td>\n",
       "      <td>17.0</td>\n",
       "      <td>F</td>\n",
       "      <td>W</td>\n",
       "      <td>Longview</td>\n",
       "      <td>TX</td>\n",
       "      <td>True</td>\n",
       "      <td>other</td>\n",
       "      <td>Not fleeing</td>\n",
       "      <td>False</td>\n",
       "    </tr>\n",
       "    <tr>\n",
       "      <th>52</th>\n",
       "      <td>336</td>\n",
       "      <td>Robert Francis Mesch</td>\n",
       "      <td>2015-01-23</td>\n",
       "      <td>shot</td>\n",
       "      <td>gun</td>\n",
       "      <td>61.0</td>\n",
       "      <td>M</td>\n",
       "      <td>W</td>\n",
       "      <td>Austin</td>\n",
       "      <td>TX</td>\n",
       "      <td>True</td>\n",
       "      <td>attack</td>\n",
       "      <td>Not fleeing</td>\n",
       "      <td>False</td>\n",
       "    </tr>\n",
       "    <tr>\n",
       "      <th>54</th>\n",
       "      <td>102</td>\n",
       "      <td>Jose Antonio Espinoza Ruiz</td>\n",
       "      <td>2015-01-23</td>\n",
       "      <td>shot</td>\n",
       "      <td>knife</td>\n",
       "      <td>56.0</td>\n",
       "      <td>M</td>\n",
       "      <td>H</td>\n",
       "      <td>Levelland</td>\n",
       "      <td>TX</td>\n",
       "      <td>False</td>\n",
       "      <td>other</td>\n",
       "      <td>Not fleeing</td>\n",
       "      <td>False</td>\n",
       "    </tr>\n",
       "    <tr>\n",
       "      <th>55</th>\n",
       "      <td>341</td>\n",
       "      <td>Wendell King</td>\n",
       "      <td>2015-01-24</td>\n",
       "      <td>shot</td>\n",
       "      <td>gun</td>\n",
       "      <td>40.0</td>\n",
       "      <td>M</td>\n",
       "      <td>W</td>\n",
       "      <td>Fort Worth</td>\n",
       "      <td>TX</td>\n",
       "      <td>False</td>\n",
       "      <td>attack</td>\n",
       "      <td>Not fleeing</td>\n",
       "      <td>False</td>\n",
       "    </tr>\n",
       "    <tr>\n",
       "      <th>62</th>\n",
       "      <td>352</td>\n",
       "      <td>Joshua Omar Garcia</td>\n",
       "      <td>2015-01-26</td>\n",
       "      <td>shot</td>\n",
       "      <td>unarmed</td>\n",
       "      <td>24.0</td>\n",
       "      <td>M</td>\n",
       "      <td>H</td>\n",
       "      <td>Tahoka</td>\n",
       "      <td>TX</td>\n",
       "      <td>False</td>\n",
       "      <td>other</td>\n",
       "      <td>Car</td>\n",
       "      <td>False</td>\n",
       "    </tr>\n",
       "    <tr>\n",
       "      <th>68</th>\n",
       "      <td>345</td>\n",
       "      <td>Alan Lance Alverson</td>\n",
       "      <td>2015-01-28</td>\n",
       "      <td>shot</td>\n",
       "      <td>gun</td>\n",
       "      <td>45.0</td>\n",
       "      <td>M</td>\n",
       "      <td>W</td>\n",
       "      <td>Sunset</td>\n",
       "      <td>TX</td>\n",
       "      <td>False</td>\n",
       "      <td>attack</td>\n",
       "      <td>Not fleeing</td>\n",
       "      <td>False</td>\n",
       "    </tr>\n",
       "    <tr>\n",
       "      <th>70</th>\n",
       "      <td>347</td>\n",
       "      <td>Cody Karasek</td>\n",
       "      <td>2015-01-28</td>\n",
       "      <td>shot</td>\n",
       "      <td>gun</td>\n",
       "      <td>26.0</td>\n",
       "      <td>M</td>\n",
       "      <td>W</td>\n",
       "      <td>Rosenberg</td>\n",
       "      <td>TX</td>\n",
       "      <td>False</td>\n",
       "      <td>attack</td>\n",
       "      <td>Not fleeing</td>\n",
       "      <td>False</td>\n",
       "    </tr>\n",
       "    <tr>\n",
       "      <th>74</th>\n",
       "      <td>338</td>\n",
       "      <td>Victor Manuel Reyes</td>\n",
       "      <td>2015-01-31</td>\n",
       "      <td>shot</td>\n",
       "      <td>gun</td>\n",
       "      <td>31.0</td>\n",
       "      <td>M</td>\n",
       "      <td>H</td>\n",
       "      <td>Houston</td>\n",
       "      <td>TX</td>\n",
       "      <td>False</td>\n",
       "      <td>attack</td>\n",
       "      <td>Not fleeing</td>\n",
       "      <td>False</td>\n",
       "    </tr>\n",
       "    <tr>\n",
       "      <th>87</th>\n",
       "      <td>126</td>\n",
       "      <td>Jimmy Ray Robinson Jr.</td>\n",
       "      <td>2015-02-04</td>\n",
       "      <td>shot</td>\n",
       "      <td>gun</td>\n",
       "      <td>51.0</td>\n",
       "      <td>M</td>\n",
       "      <td>B</td>\n",
       "      <td>Lorena</td>\n",
       "      <td>TX</td>\n",
       "      <td>False</td>\n",
       "      <td>attack</td>\n",
       "      <td>Car</td>\n",
       "      <td>False</td>\n",
       "    </tr>\n",
       "    <tr>\n",
       "      <th>94</th>\n",
       "      <td>132</td>\n",
       "      <td>Sawyer Flache</td>\n",
       "      <td>2015-02-08</td>\n",
       "      <td>shot</td>\n",
       "      <td>gun</td>\n",
       "      <td>27.0</td>\n",
       "      <td>M</td>\n",
       "      <td>W</td>\n",
       "      <td>Austin</td>\n",
       "      <td>TX</td>\n",
       "      <td>False</td>\n",
       "      <td>attack</td>\n",
       "      <td>Not fleeing</td>\n",
       "      <td>False</td>\n",
       "    </tr>\n",
       "    <tr>\n",
       "      <th>97</th>\n",
       "      <td>135</td>\n",
       "      <td>Larry Hostetter</td>\n",
       "      <td>2015-02-08</td>\n",
       "      <td>shot</td>\n",
       "      <td>gun</td>\n",
       "      <td>41.0</td>\n",
       "      <td>M</td>\n",
       "      <td>W</td>\n",
       "      <td>Nocona</td>\n",
       "      <td>TX</td>\n",
       "      <td>False</td>\n",
       "      <td>attack</td>\n",
       "      <td>Not fleeing</td>\n",
       "      <td>False</td>\n",
       "    </tr>\n",
       "    <tr>\n",
       "      <th>99</th>\n",
       "      <td>137</td>\n",
       "      <td>Desmond Luster</td>\n",
       "      <td>2015-02-09</td>\n",
       "      <td>shot</td>\n",
       "      <td>gun</td>\n",
       "      <td>45.0</td>\n",
       "      <td>M</td>\n",
       "      <td>B</td>\n",
       "      <td>Dallas</td>\n",
       "      <td>TX</td>\n",
       "      <td>False</td>\n",
       "      <td>attack</td>\n",
       "      <td>Not fleeing</td>\n",
       "      <td>False</td>\n",
       "    </tr>\n",
       "    <tr>\n",
       "      <th>111</th>\n",
       "      <td>155</td>\n",
       "      <td>Roy Joy Day</td>\n",
       "      <td>2015-02-14</td>\n",
       "      <td>shot</td>\n",
       "      <td>gun</td>\n",
       "      <td>51.0</td>\n",
       "      <td>M</td>\n",
       "      <td>W</td>\n",
       "      <td>Laredo</td>\n",
       "      <td>TX</td>\n",
       "      <td>False</td>\n",
       "      <td>attack</td>\n",
       "      <td>Not fleeing</td>\n",
       "      <td>False</td>\n",
       "    </tr>\n",
       "    <tr>\n",
       "      <th>122</th>\n",
       "      <td>162</td>\n",
       "      <td>Pedro Juan Saldivar</td>\n",
       "      <td>2015-02-17</td>\n",
       "      <td>shot</td>\n",
       "      <td>vehicle</td>\n",
       "      <td>50.0</td>\n",
       "      <td>M</td>\n",
       "      <td>H</td>\n",
       "      <td>Del Rio</td>\n",
       "      <td>TX</td>\n",
       "      <td>False</td>\n",
       "      <td>other</td>\n",
       "      <td>Not fleeing</td>\n",
       "      <td>False</td>\n",
       "    </tr>\n",
       "    <tr>\n",
       "      <th>124</th>\n",
       "      <td>584</td>\n",
       "      <td>Alejandro Salazar</td>\n",
       "      <td>2015-02-20</td>\n",
       "      <td>shot</td>\n",
       "      <td>gun</td>\n",
       "      <td>NaN</td>\n",
       "      <td>M</td>\n",
       "      <td>H</td>\n",
       "      <td>Houston</td>\n",
       "      <td>TX</td>\n",
       "      <td>False</td>\n",
       "      <td>attack</td>\n",
       "      <td>Car</td>\n",
       "      <td>False</td>\n",
       "    </tr>\n",
       "    <tr>\n",
       "      <th>125</th>\n",
       "      <td>165</td>\n",
       "      <td>Ruben Villalpando</td>\n",
       "      <td>2015-02-20</td>\n",
       "      <td>shot</td>\n",
       "      <td>unarmed</td>\n",
       "      <td>31.0</td>\n",
       "      <td>M</td>\n",
       "      <td>H</td>\n",
       "      <td>Euless</td>\n",
       "      <td>TX</td>\n",
       "      <td>False</td>\n",
       "      <td>other</td>\n",
       "      <td>Not fleeing</td>\n",
       "      <td>False</td>\n",
       "    </tr>\n",
       "    <tr>\n",
       "      <th>155</th>\n",
       "      <td>195</td>\n",
       "      <td>Hung Trieu</td>\n",
       "      <td>2015-03-01</td>\n",
       "      <td>shot</td>\n",
       "      <td>gun</td>\n",
       "      <td>35.0</td>\n",
       "      <td>M</td>\n",
       "      <td>A</td>\n",
       "      <td>Houston</td>\n",
       "      <td>TX</td>\n",
       "      <td>False</td>\n",
       "      <td>attack</td>\n",
       "      <td>Not fleeing</td>\n",
       "      <td>False</td>\n",
       "    </tr>\n",
       "    <tr>\n",
       "      <th>191</th>\n",
       "      <td>287</td>\n",
       "      <td>Richard Castilleja</td>\n",
       "      <td>2015-03-14</td>\n",
       "      <td>shot</td>\n",
       "      <td>gun</td>\n",
       "      <td>29.0</td>\n",
       "      <td>M</td>\n",
       "      <td>H</td>\n",
       "      <td>San Antonio</td>\n",
       "      <td>TX</td>\n",
       "      <td>True</td>\n",
       "      <td>attack</td>\n",
       "      <td>Not fleeing</td>\n",
       "      <td>False</td>\n",
       "    </tr>\n",
       "    <tr>\n",
       "      <th>197</th>\n",
       "      <td>290</td>\n",
       "      <td>Eugene Smith</td>\n",
       "      <td>2015-03-17</td>\n",
       "      <td>shot</td>\n",
       "      <td>gun</td>\n",
       "      <td>20.0</td>\n",
       "      <td>M</td>\n",
       "      <td>W</td>\n",
       "      <td>Onalaska</td>\n",
       "      <td>TX</td>\n",
       "      <td>True</td>\n",
       "      <td>attack</td>\n",
       "      <td>Not fleeing</td>\n",
       "      <td>False</td>\n",
       "    </tr>\n",
       "    <tr>\n",
       "      <th>243</th>\n",
       "      <td>261</td>\n",
       "      <td>Benjamin Quezada</td>\n",
       "      <td>2015-03-31</td>\n",
       "      <td>shot</td>\n",
       "      <td>toy weapon</td>\n",
       "      <td>21.0</td>\n",
       "      <td>M</td>\n",
       "      <td>H</td>\n",
       "      <td>Baytown</td>\n",
       "      <td>TX</td>\n",
       "      <td>False</td>\n",
       "      <td>attack</td>\n",
       "      <td>Not fleeing</td>\n",
       "      <td>False</td>\n",
       "    </tr>\n",
       "    <tr>\n",
       "      <th>262</th>\n",
       "      <td>329</td>\n",
       "      <td>Douglas Faith</td>\n",
       "      <td>2015-04-08</td>\n",
       "      <td>shot</td>\n",
       "      <td>gun</td>\n",
       "      <td>60.0</td>\n",
       "      <td>M</td>\n",
       "      <td>W</td>\n",
       "      <td>San Antonio</td>\n",
       "      <td>TX</td>\n",
       "      <td>False</td>\n",
       "      <td>attack</td>\n",
       "      <td>Car</td>\n",
       "      <td>False</td>\n",
       "    </tr>\n",
       "    <tr>\n",
       "      <th>278</th>\n",
       "      <td>363</td>\n",
       "      <td>Colby Robinson</td>\n",
       "      <td>2015-04-14</td>\n",
       "      <td>shot</td>\n",
       "      <td>undetermined</td>\n",
       "      <td>26.0</td>\n",
       "      <td>M</td>\n",
       "      <td>B</td>\n",
       "      <td>DeSoto</td>\n",
       "      <td>TX</td>\n",
       "      <td>False</td>\n",
       "      <td>undetermined</td>\n",
       "      <td>Foot</td>\n",
       "      <td>False</td>\n",
       "    </tr>\n",
       "    <tr>\n",
       "      <th>...</th>\n",
       "      <td>...</td>\n",
       "      <td>...</td>\n",
       "      <td>...</td>\n",
       "      <td>...</td>\n",
       "      <td>...</td>\n",
       "      <td>...</td>\n",
       "      <td>...</td>\n",
       "      <td>...</td>\n",
       "      <td>...</td>\n",
       "      <td>...</td>\n",
       "      <td>...</td>\n",
       "      <td>...</td>\n",
       "      <td>...</td>\n",
       "      <td>...</td>\n",
       "    </tr>\n",
       "    <tr>\n",
       "      <th>1810</th>\n",
       "      <td>2023</td>\n",
       "      <td>Patrick Wise</td>\n",
       "      <td>2016-11-05</td>\n",
       "      <td>shot</td>\n",
       "      <td>gun</td>\n",
       "      <td>34.0</td>\n",
       "      <td>M</td>\n",
       "      <td>W</td>\n",
       "      <td>Gladewater</td>\n",
       "      <td>TX</td>\n",
       "      <td>False</td>\n",
       "      <td>other</td>\n",
       "      <td>Other</td>\n",
       "      <td>True</td>\n",
       "    </tr>\n",
       "    <tr>\n",
       "      <th>1823</th>\n",
       "      <td>2036</td>\n",
       "      <td>George Delacruz</td>\n",
       "      <td>2016-11-10</td>\n",
       "      <td>shot</td>\n",
       "      <td>gun</td>\n",
       "      <td>41.0</td>\n",
       "      <td>M</td>\n",
       "      <td>H</td>\n",
       "      <td>San Angelo</td>\n",
       "      <td>TX</td>\n",
       "      <td>False</td>\n",
       "      <td>undetermined</td>\n",
       "      <td>NaN</td>\n",
       "      <td>False</td>\n",
       "    </tr>\n",
       "    <tr>\n",
       "      <th>1835</th>\n",
       "      <td>2049</td>\n",
       "      <td>Robert Daffern</td>\n",
       "      <td>2016-11-15</td>\n",
       "      <td>shot</td>\n",
       "      <td>gun</td>\n",
       "      <td>37.0</td>\n",
       "      <td>M</td>\n",
       "      <td>W</td>\n",
       "      <td>Webster</td>\n",
       "      <td>TX</td>\n",
       "      <td>False</td>\n",
       "      <td>attack</td>\n",
       "      <td>Not fleeing</td>\n",
       "      <td>False</td>\n",
       "    </tr>\n",
       "    <tr>\n",
       "      <th>1848</th>\n",
       "      <td>2061</td>\n",
       "      <td>Andrew Moreno</td>\n",
       "      <td>2016-11-20</td>\n",
       "      <td>shot</td>\n",
       "      <td>gun</td>\n",
       "      <td>24.0</td>\n",
       "      <td>M</td>\n",
       "      <td>H</td>\n",
       "      <td>San Antonio</td>\n",
       "      <td>TX</td>\n",
       "      <td>False</td>\n",
       "      <td>attack</td>\n",
       "      <td>Not fleeing</td>\n",
       "      <td>False</td>\n",
       "    </tr>\n",
       "    <tr>\n",
       "      <th>1853</th>\n",
       "      <td>2066</td>\n",
       "      <td>Ivory C. Pantallion</td>\n",
       "      <td>2016-11-22</td>\n",
       "      <td>shot</td>\n",
       "      <td>gun</td>\n",
       "      <td>36.0</td>\n",
       "      <td>M</td>\n",
       "      <td>B</td>\n",
       "      <td>Baytown</td>\n",
       "      <td>TX</td>\n",
       "      <td>False</td>\n",
       "      <td>other</td>\n",
       "      <td>Car</td>\n",
       "      <td>False</td>\n",
       "    </tr>\n",
       "    <tr>\n",
       "      <th>1872</th>\n",
       "      <td>2088</td>\n",
       "      <td>Toby Cummins</td>\n",
       "      <td>2016-11-29</td>\n",
       "      <td>shot</td>\n",
       "      <td>rock</td>\n",
       "      <td>55.0</td>\n",
       "      <td>M</td>\n",
       "      <td>W</td>\n",
       "      <td>Friendswood</td>\n",
       "      <td>TX</td>\n",
       "      <td>False</td>\n",
       "      <td>other</td>\n",
       "      <td>Car</td>\n",
       "      <td>True</td>\n",
       "    </tr>\n",
       "    <tr>\n",
       "      <th>1890</th>\n",
       "      <td>2108</td>\n",
       "      <td>Keelan Charles Murray</td>\n",
       "      <td>2016-12-07</td>\n",
       "      <td>shot</td>\n",
       "      <td>undetermined</td>\n",
       "      <td>37.0</td>\n",
       "      <td>M</td>\n",
       "      <td>W</td>\n",
       "      <td>Dallas</td>\n",
       "      <td>TX</td>\n",
       "      <td>False</td>\n",
       "      <td>undetermined</td>\n",
       "      <td>NaN</td>\n",
       "      <td>False</td>\n",
       "    </tr>\n",
       "    <tr>\n",
       "      <th>1891</th>\n",
       "      <td>2109</td>\n",
       "      <td>Redrick Jevon Batiste</td>\n",
       "      <td>2016-12-07</td>\n",
       "      <td>shot</td>\n",
       "      <td>gun</td>\n",
       "      <td>37.0</td>\n",
       "      <td>M</td>\n",
       "      <td>B</td>\n",
       "      <td>Houston</td>\n",
       "      <td>TX</td>\n",
       "      <td>False</td>\n",
       "      <td>attack</td>\n",
       "      <td>Not fleeing</td>\n",
       "      <td>False</td>\n",
       "    </tr>\n",
       "    <tr>\n",
       "      <th>1894</th>\n",
       "      <td>2110</td>\n",
       "      <td>NaN</td>\n",
       "      <td>2016-12-08</td>\n",
       "      <td>shot</td>\n",
       "      <td>gun</td>\n",
       "      <td>NaN</td>\n",
       "      <td>M</td>\n",
       "      <td>NaN</td>\n",
       "      <td>Allen</td>\n",
       "      <td>TX</td>\n",
       "      <td>False</td>\n",
       "      <td>attack</td>\n",
       "      <td>Not fleeing</td>\n",
       "      <td>False</td>\n",
       "    </tr>\n",
       "    <tr>\n",
       "      <th>1902</th>\n",
       "      <td>2121</td>\n",
       "      <td>Jose Angel Vallarta</td>\n",
       "      <td>2016-12-11</td>\n",
       "      <td>shot</td>\n",
       "      <td>knife</td>\n",
       "      <td>30.0</td>\n",
       "      <td>M</td>\n",
       "      <td>H</td>\n",
       "      <td>Laredo</td>\n",
       "      <td>TX</td>\n",
       "      <td>False</td>\n",
       "      <td>attack</td>\n",
       "      <td>Not fleeing</td>\n",
       "      <td>False</td>\n",
       "    </tr>\n",
       "    <tr>\n",
       "      <th>1920</th>\n",
       "      <td>2140</td>\n",
       "      <td>Martin Gomez</td>\n",
       "      <td>2016-12-20</td>\n",
       "      <td>shot</td>\n",
       "      <td>knife</td>\n",
       "      <td>46.0</td>\n",
       "      <td>M</td>\n",
       "      <td>H</td>\n",
       "      <td>Pharr</td>\n",
       "      <td>TX</td>\n",
       "      <td>False</td>\n",
       "      <td>other</td>\n",
       "      <td>Not fleeing</td>\n",
       "      <td>False</td>\n",
       "    </tr>\n",
       "    <tr>\n",
       "      <th>1943</th>\n",
       "      <td>2170</td>\n",
       "      <td>Judy Boardman</td>\n",
       "      <td>2016-12-27</td>\n",
       "      <td>shot</td>\n",
       "      <td>gun</td>\n",
       "      <td>71.0</td>\n",
       "      <td>F</td>\n",
       "      <td>W</td>\n",
       "      <td>Pearland</td>\n",
       "      <td>TX</td>\n",
       "      <td>False</td>\n",
       "      <td>attack</td>\n",
       "      <td>Not fleeing</td>\n",
       "      <td>False</td>\n",
       "    </tr>\n",
       "    <tr>\n",
       "      <th>1945</th>\n",
       "      <td>2172</td>\n",
       "      <td>Jake Childers</td>\n",
       "      <td>2016-12-27</td>\n",
       "      <td>shot</td>\n",
       "      <td>gun</td>\n",
       "      <td>36.0</td>\n",
       "      <td>M</td>\n",
       "      <td>W</td>\n",
       "      <td>Campbellton</td>\n",
       "      <td>TX</td>\n",
       "      <td>False</td>\n",
       "      <td>attack</td>\n",
       "      <td>Other</td>\n",
       "      <td>False</td>\n",
       "    </tr>\n",
       "    <tr>\n",
       "      <th>1958</th>\n",
       "      <td>2185</td>\n",
       "      <td>Juan Carlos Cuadra</td>\n",
       "      <td>2017-01-01</td>\n",
       "      <td>shot</td>\n",
       "      <td>gun</td>\n",
       "      <td>23.0</td>\n",
       "      <td>M</td>\n",
       "      <td>H</td>\n",
       "      <td>Houston</td>\n",
       "      <td>TX</td>\n",
       "      <td>False</td>\n",
       "      <td>attack</td>\n",
       "      <td>Foot</td>\n",
       "      <td>False</td>\n",
       "    </tr>\n",
       "    <tr>\n",
       "      <th>1959</th>\n",
       "      <td>2187</td>\n",
       "      <td>Mark Guirguis</td>\n",
       "      <td>2017-01-01</td>\n",
       "      <td>shot</td>\n",
       "      <td>vehicle</td>\n",
       "      <td>21.0</td>\n",
       "      <td>M</td>\n",
       "      <td>B</td>\n",
       "      <td>Allen</td>\n",
       "      <td>TX</td>\n",
       "      <td>False</td>\n",
       "      <td>attack</td>\n",
       "      <td>Car</td>\n",
       "      <td>False</td>\n",
       "    </tr>\n",
       "    <tr>\n",
       "      <th>1960</th>\n",
       "      <td>2188</td>\n",
       "      <td>Dale Hightower</td>\n",
       "      <td>2017-01-03</td>\n",
       "      <td>shot</td>\n",
       "      <td>gun</td>\n",
       "      <td>53.0</td>\n",
       "      <td>M</td>\n",
       "      <td>W</td>\n",
       "      <td>Gilmer</td>\n",
       "      <td>TX</td>\n",
       "      <td>True</td>\n",
       "      <td>attack</td>\n",
       "      <td>Not fleeing</td>\n",
       "      <td>True</td>\n",
       "    </tr>\n",
       "    <tr>\n",
       "      <th>1988</th>\n",
       "      <td>2221</td>\n",
       "      <td>Scott Laurance Gilpin</td>\n",
       "      <td>2017-01-14</td>\n",
       "      <td>shot</td>\n",
       "      <td>gun</td>\n",
       "      <td>47.0</td>\n",
       "      <td>M</td>\n",
       "      <td>W</td>\n",
       "      <td>Austin</td>\n",
       "      <td>TX</td>\n",
       "      <td>False</td>\n",
       "      <td>attack</td>\n",
       "      <td>Foot</td>\n",
       "      <td>False</td>\n",
       "    </tr>\n",
       "    <tr>\n",
       "      <th>2002</th>\n",
       "      <td>2231</td>\n",
       "      <td>Genevive Dawes</td>\n",
       "      <td>2017-01-18</td>\n",
       "      <td>shot</td>\n",
       "      <td>vehicle</td>\n",
       "      <td>21.0</td>\n",
       "      <td>F</td>\n",
       "      <td>W</td>\n",
       "      <td>Dallas</td>\n",
       "      <td>TX</td>\n",
       "      <td>False</td>\n",
       "      <td>other</td>\n",
       "      <td>Car</td>\n",
       "      <td>False</td>\n",
       "    </tr>\n",
       "    <tr>\n",
       "      <th>2008</th>\n",
       "      <td>2244</td>\n",
       "      <td>Christopher Garza</td>\n",
       "      <td>2017-01-19</td>\n",
       "      <td>shot</td>\n",
       "      <td>gun</td>\n",
       "      <td>44.0</td>\n",
       "      <td>M</td>\n",
       "      <td>H</td>\n",
       "      <td>Fritch</td>\n",
       "      <td>TX</td>\n",
       "      <td>False</td>\n",
       "      <td>attack</td>\n",
       "      <td>Foot</td>\n",
       "      <td>False</td>\n",
       "    </tr>\n",
       "    <tr>\n",
       "      <th>2036</th>\n",
       "      <td>2273</td>\n",
       "      <td>Gerardo Coronado</td>\n",
       "      <td>2017-01-28</td>\n",
       "      <td>shot</td>\n",
       "      <td>gun</td>\n",
       "      <td>25.0</td>\n",
       "      <td>M</td>\n",
       "      <td>H</td>\n",
       "      <td>Fort Stockton</td>\n",
       "      <td>TX</td>\n",
       "      <td>False</td>\n",
       "      <td>attack</td>\n",
       "      <td>Car</td>\n",
       "      <td>False</td>\n",
       "    </tr>\n",
       "    <tr>\n",
       "      <th>2045</th>\n",
       "      <td>2280</td>\n",
       "      <td>Tavis Crane</td>\n",
       "      <td>2017-02-01</td>\n",
       "      <td>shot</td>\n",
       "      <td>vehicle</td>\n",
       "      <td>23.0</td>\n",
       "      <td>M</td>\n",
       "      <td>B</td>\n",
       "      <td>Arlington</td>\n",
       "      <td>TX</td>\n",
       "      <td>False</td>\n",
       "      <td>attack</td>\n",
       "      <td>Car</td>\n",
       "      <td>False</td>\n",
       "    </tr>\n",
       "    <tr>\n",
       "      <th>2051</th>\n",
       "      <td>2285</td>\n",
       "      <td>Yia Lee</td>\n",
       "      <td>2017-02-03</td>\n",
       "      <td>shot</td>\n",
       "      <td>gun</td>\n",
       "      <td>41.0</td>\n",
       "      <td>M</td>\n",
       "      <td>A</td>\n",
       "      <td>Panhandle</td>\n",
       "      <td>TX</td>\n",
       "      <td>False</td>\n",
       "      <td>attack</td>\n",
       "      <td>Not fleeing</td>\n",
       "      <td>False</td>\n",
       "    </tr>\n",
       "    <tr>\n",
       "      <th>2056</th>\n",
       "      <td>2299</td>\n",
       "      <td>Daniel Loren Rucker</td>\n",
       "      <td>2017-02-03</td>\n",
       "      <td>shot</td>\n",
       "      <td>gun</td>\n",
       "      <td>45.0</td>\n",
       "      <td>M</td>\n",
       "      <td>W</td>\n",
       "      <td>Irving</td>\n",
       "      <td>TX</td>\n",
       "      <td>False</td>\n",
       "      <td>other</td>\n",
       "      <td>Not fleeing</td>\n",
       "      <td>False</td>\n",
       "    </tr>\n",
       "    <tr>\n",
       "      <th>2090</th>\n",
       "      <td>2328</td>\n",
       "      <td>NaN</td>\n",
       "      <td>2017-02-12</td>\n",
       "      <td>shot</td>\n",
       "      <td>vehicle</td>\n",
       "      <td>NaN</td>\n",
       "      <td>M</td>\n",
       "      <td>NaN</td>\n",
       "      <td>Terrell</td>\n",
       "      <td>TX</td>\n",
       "      <td>False</td>\n",
       "      <td>other</td>\n",
       "      <td>Other</td>\n",
       "      <td>False</td>\n",
       "    </tr>\n",
       "    <tr>\n",
       "      <th>2102</th>\n",
       "      <td>2349</td>\n",
       "      <td>Joseph Tamayo</td>\n",
       "      <td>2017-02-16</td>\n",
       "      <td>shot</td>\n",
       "      <td>gun</td>\n",
       "      <td>48.0</td>\n",
       "      <td>M</td>\n",
       "      <td>H</td>\n",
       "      <td>San Antonio</td>\n",
       "      <td>TX</td>\n",
       "      <td>False</td>\n",
       "      <td>attack</td>\n",
       "      <td>Not fleeing</td>\n",
       "      <td>False</td>\n",
       "    </tr>\n",
       "    <tr>\n",
       "      <th>2104</th>\n",
       "      <td>2359</td>\n",
       "      <td>Joshua Henry</td>\n",
       "      <td>2017-02-17</td>\n",
       "      <td>shot</td>\n",
       "      <td>unarmed</td>\n",
       "      <td>30.0</td>\n",
       "      <td>M</td>\n",
       "      <td>W</td>\n",
       "      <td>Grand Prarie</td>\n",
       "      <td>TX</td>\n",
       "      <td>True</td>\n",
       "      <td>attack</td>\n",
       "      <td>Not fleeing</td>\n",
       "      <td>True</td>\n",
       "    </tr>\n",
       "    <tr>\n",
       "      <th>2121</th>\n",
       "      <td>2369</td>\n",
       "      <td>Medger Blake</td>\n",
       "      <td>2017-02-22</td>\n",
       "      <td>shot</td>\n",
       "      <td>knife</td>\n",
       "      <td>41.0</td>\n",
       "      <td>M</td>\n",
       "      <td>B</td>\n",
       "      <td>Conroe</td>\n",
       "      <td>TX</td>\n",
       "      <td>False</td>\n",
       "      <td>attack</td>\n",
       "      <td>Not fleeing</td>\n",
       "      <td>False</td>\n",
       "    </tr>\n",
       "    <tr>\n",
       "      <th>2123</th>\n",
       "      <td>2372</td>\n",
       "      <td>Morgan London Rankins</td>\n",
       "      <td>2017-02-22</td>\n",
       "      <td>shot</td>\n",
       "      <td>knife</td>\n",
       "      <td>30.0</td>\n",
       "      <td>F</td>\n",
       "      <td>B</td>\n",
       "      <td>Austin</td>\n",
       "      <td>TX</td>\n",
       "      <td>True</td>\n",
       "      <td>other</td>\n",
       "      <td>Car</td>\n",
       "      <td>False</td>\n",
       "    </tr>\n",
       "    <tr>\n",
       "      <th>2131</th>\n",
       "      <td>2390</td>\n",
       "      <td>Jacqueline Cheyanne Johnson</td>\n",
       "      <td>2017-02-24</td>\n",
       "      <td>shot</td>\n",
       "      <td>gun</td>\n",
       "      <td>33.0</td>\n",
       "      <td>F</td>\n",
       "      <td>W</td>\n",
       "      <td>Lake Jackson</td>\n",
       "      <td>TX</td>\n",
       "      <td>False</td>\n",
       "      <td>attack</td>\n",
       "      <td>Car</td>\n",
       "      <td>False</td>\n",
       "    </tr>\n",
       "    <tr>\n",
       "      <th>2140</th>\n",
       "      <td>2393</td>\n",
       "      <td>Earl Riley</td>\n",
       "      <td>2017-02-28</td>\n",
       "      <td>shot</td>\n",
       "      <td>gun</td>\n",
       "      <td>25.0</td>\n",
       "      <td>M</td>\n",
       "      <td>B</td>\n",
       "      <td>Houston</td>\n",
       "      <td>TX</td>\n",
       "      <td>False</td>\n",
       "      <td>attack</td>\n",
       "      <td>Not fleeing</td>\n",
       "      <td>False</td>\n",
       "    </tr>\n",
       "  </tbody>\n",
       "</table>\n",
       "<p>197 rows × 14 columns</p>\n",
       "</div>"
      ],
      "text/plain": [
       "        id                              name        date   manner_of_death  \\\n",
       "11      21                         Ron Sneed  2015-01-07              shot   \n",
       "20     325                     Andy Martinez  2015-01-09              shot   \n",
       "25      48                 Richard McClendon  2015-01-13              shot   \n",
       "30      54                    Robert Edwards  2015-01-14              shot   \n",
       "37      67                        Scott Hall  2015-01-16              shot   \n",
       "41      78                    Daniel Brumley  2015-01-17              shot   \n",
       "47      88  Miguel Angel de Santos-Rodriguez  2015-01-21              shot   \n",
       "50      99                       Tiano Meton  2015-01-22              shot   \n",
       "51     100                Kristiana Coignard  2015-01-22  shot and Tasered   \n",
       "52     336              Robert Francis Mesch  2015-01-23              shot   \n",
       "54     102        Jose Antonio Espinoza Ruiz  2015-01-23              shot   \n",
       "55     341                      Wendell King  2015-01-24              shot   \n",
       "62     352                Joshua Omar Garcia  2015-01-26              shot   \n",
       "68     345               Alan Lance Alverson  2015-01-28              shot   \n",
       "70     347                      Cody Karasek  2015-01-28              shot   \n",
       "74     338               Victor Manuel Reyes  2015-01-31              shot   \n",
       "87     126            Jimmy Ray Robinson Jr.  2015-02-04              shot   \n",
       "94     132                     Sawyer Flache  2015-02-08              shot   \n",
       "97     135                   Larry Hostetter  2015-02-08              shot   \n",
       "99     137                    Desmond Luster  2015-02-09              shot   \n",
       "111    155                       Roy Joy Day  2015-02-14              shot   \n",
       "122    162               Pedro Juan Saldivar  2015-02-17              shot   \n",
       "124    584                 Alejandro Salazar  2015-02-20              shot   \n",
       "125    165                 Ruben Villalpando  2015-02-20              shot   \n",
       "155    195                        Hung Trieu  2015-03-01              shot   \n",
       "191    287                Richard Castilleja  2015-03-14              shot   \n",
       "197    290                      Eugene Smith  2015-03-17              shot   \n",
       "243    261                  Benjamin Quezada  2015-03-31              shot   \n",
       "262    329                     Douglas Faith  2015-04-08              shot   \n",
       "278    363                    Colby Robinson  2015-04-14              shot   \n",
       "...    ...                               ...         ...               ...   \n",
       "1810  2023                      Patrick Wise  2016-11-05              shot   \n",
       "1823  2036                   George Delacruz  2016-11-10              shot   \n",
       "1835  2049                    Robert Daffern  2016-11-15              shot   \n",
       "1848  2061                     Andrew Moreno  2016-11-20              shot   \n",
       "1853  2066               Ivory C. Pantallion  2016-11-22              shot   \n",
       "1872  2088                      Toby Cummins  2016-11-29              shot   \n",
       "1890  2108             Keelan Charles Murray  2016-12-07              shot   \n",
       "1891  2109             Redrick Jevon Batiste  2016-12-07              shot   \n",
       "1894  2110                               NaN  2016-12-08              shot   \n",
       "1902  2121               Jose Angel Vallarta  2016-12-11              shot   \n",
       "1920  2140                      Martin Gomez  2016-12-20              shot   \n",
       "1943  2170                     Judy Boardman  2016-12-27              shot   \n",
       "1945  2172                     Jake Childers  2016-12-27              shot   \n",
       "1958  2185                Juan Carlos Cuadra  2017-01-01              shot   \n",
       "1959  2187                     Mark Guirguis  2017-01-01              shot   \n",
       "1960  2188                    Dale Hightower  2017-01-03              shot   \n",
       "1988  2221             Scott Laurance Gilpin  2017-01-14              shot   \n",
       "2002  2231                    Genevive Dawes  2017-01-18              shot   \n",
       "2008  2244                 Christopher Garza  2017-01-19              shot   \n",
       "2036  2273                  Gerardo Coronado  2017-01-28              shot   \n",
       "2045  2280                       Tavis Crane  2017-02-01              shot   \n",
       "2051  2285                           Yia Lee  2017-02-03              shot   \n",
       "2056  2299               Daniel Loren Rucker  2017-02-03              shot   \n",
       "2090  2328                               NaN  2017-02-12              shot   \n",
       "2102  2349                     Joseph Tamayo  2017-02-16              shot   \n",
       "2104  2359                      Joshua Henry  2017-02-17              shot   \n",
       "2121  2369                      Medger Blake  2017-02-22              shot   \n",
       "2123  2372             Morgan London Rankins  2017-02-22              shot   \n",
       "2131  2390       Jacqueline Cheyanne Johnson  2017-02-24              shot   \n",
       "2140  2393                        Earl Riley  2017-02-28              shot   \n",
       "\n",
       "             armed   age gender race           city state  \\\n",
       "11             gun  31.0      M    B       Freeport    TX   \n",
       "20             gun  33.0      M    H        El Paso    TX   \n",
       "25           knife  43.0      M    W     Jourdanton    TX   \n",
       "30             gun  68.0      M    W   Lake Jackson    TX   \n",
       "37             gun  41.0      M    W         Mabank    TX   \n",
       "41           knife  27.0      M    H     Fort Worth    TX   \n",
       "47             gun  36.0      M    H        Chapeno    TX   \n",
       "50      toy weapon  25.0      M    B  Sierra Blanca    TX   \n",
       "51           knife  17.0      F    W       Longview    TX   \n",
       "52             gun  61.0      M    W         Austin    TX   \n",
       "54           knife  56.0      M    H      Levelland    TX   \n",
       "55             gun  40.0      M    W     Fort Worth    TX   \n",
       "62         unarmed  24.0      M    H         Tahoka    TX   \n",
       "68             gun  45.0      M    W         Sunset    TX   \n",
       "70             gun  26.0      M    W      Rosenberg    TX   \n",
       "74             gun  31.0      M    H        Houston    TX   \n",
       "87             gun  51.0      M    B         Lorena    TX   \n",
       "94             gun  27.0      M    W         Austin    TX   \n",
       "97             gun  41.0      M    W         Nocona    TX   \n",
       "99             gun  45.0      M    B         Dallas    TX   \n",
       "111            gun  51.0      M    W         Laredo    TX   \n",
       "122        vehicle  50.0      M    H        Del Rio    TX   \n",
       "124            gun   NaN      M    H        Houston    TX   \n",
       "125        unarmed  31.0      M    H         Euless    TX   \n",
       "155            gun  35.0      M    A        Houston    TX   \n",
       "191            gun  29.0      M    H    San Antonio    TX   \n",
       "197            gun  20.0      M    W       Onalaska    TX   \n",
       "243     toy weapon  21.0      M    H        Baytown    TX   \n",
       "262            gun  60.0      M    W    San Antonio    TX   \n",
       "278   undetermined  26.0      M    B         DeSoto    TX   \n",
       "...            ...   ...    ...  ...            ...   ...   \n",
       "1810           gun  34.0      M    W     Gladewater    TX   \n",
       "1823           gun  41.0      M    H     San Angelo    TX   \n",
       "1835           gun  37.0      M    W        Webster    TX   \n",
       "1848           gun  24.0      M    H    San Antonio    TX   \n",
       "1853           gun  36.0      M    B        Baytown    TX   \n",
       "1872          rock  55.0      M    W    Friendswood    TX   \n",
       "1890  undetermined  37.0      M    W         Dallas    TX   \n",
       "1891           gun  37.0      M    B        Houston    TX   \n",
       "1894           gun   NaN      M  NaN          Allen    TX   \n",
       "1902         knife  30.0      M    H         Laredo    TX   \n",
       "1920         knife  46.0      M    H          Pharr    TX   \n",
       "1943           gun  71.0      F    W       Pearland    TX   \n",
       "1945           gun  36.0      M    W    Campbellton    TX   \n",
       "1958           gun  23.0      M    H        Houston    TX   \n",
       "1959       vehicle  21.0      M    B          Allen    TX   \n",
       "1960           gun  53.0      M    W         Gilmer    TX   \n",
       "1988           gun  47.0      M    W         Austin    TX   \n",
       "2002       vehicle  21.0      F    W         Dallas    TX   \n",
       "2008           gun  44.0      M    H         Fritch    TX   \n",
       "2036           gun  25.0      M    H  Fort Stockton    TX   \n",
       "2045       vehicle  23.0      M    B      Arlington    TX   \n",
       "2051           gun  41.0      M    A      Panhandle    TX   \n",
       "2056           gun  45.0      M    W         Irving    TX   \n",
       "2090       vehicle   NaN      M  NaN        Terrell    TX   \n",
       "2102           gun  48.0      M    H    San Antonio    TX   \n",
       "2104       unarmed  30.0      M    W   Grand Prarie    TX   \n",
       "2121         knife  41.0      M    B         Conroe    TX   \n",
       "2123         knife  30.0      F    B         Austin    TX   \n",
       "2131           gun  33.0      F    W   Lake Jackson    TX   \n",
       "2140           gun  25.0      M    B        Houston    TX   \n",
       "\n",
       "     signs_of_mental_illness  threat_level         flee body_camera  \n",
       "11                     False        attack  Not fleeing       False  \n",
       "20                     False        attack  Not fleeing       False  \n",
       "25                      True         other  Not fleeing       False  \n",
       "30                     False        attack  Not fleeing       False  \n",
       "37                     False        attack          Car       False  \n",
       "41                     False        attack  Not fleeing       False  \n",
       "47                     False        attack         Foot       False  \n",
       "50                     False        attack          Car       False  \n",
       "51                      True         other  Not fleeing       False  \n",
       "52                      True        attack  Not fleeing       False  \n",
       "54                     False         other  Not fleeing       False  \n",
       "55                     False        attack  Not fleeing       False  \n",
       "62                     False         other          Car       False  \n",
       "68                     False        attack  Not fleeing       False  \n",
       "70                     False        attack  Not fleeing       False  \n",
       "74                     False        attack  Not fleeing       False  \n",
       "87                     False        attack          Car       False  \n",
       "94                     False        attack  Not fleeing       False  \n",
       "97                     False        attack  Not fleeing       False  \n",
       "99                     False        attack  Not fleeing       False  \n",
       "111                    False        attack  Not fleeing       False  \n",
       "122                    False         other  Not fleeing       False  \n",
       "124                    False        attack          Car       False  \n",
       "125                    False         other  Not fleeing       False  \n",
       "155                    False        attack  Not fleeing       False  \n",
       "191                     True        attack  Not fleeing       False  \n",
       "197                     True        attack  Not fleeing       False  \n",
       "243                    False        attack  Not fleeing       False  \n",
       "262                    False        attack          Car       False  \n",
       "278                    False  undetermined         Foot       False  \n",
       "...                      ...           ...          ...         ...  \n",
       "1810                   False         other        Other        True  \n",
       "1823                   False  undetermined          NaN       False  \n",
       "1835                   False        attack  Not fleeing       False  \n",
       "1848                   False        attack  Not fleeing       False  \n",
       "1853                   False         other          Car       False  \n",
       "1872                   False         other          Car        True  \n",
       "1890                   False  undetermined          NaN       False  \n",
       "1891                   False        attack  Not fleeing       False  \n",
       "1894                   False        attack  Not fleeing       False  \n",
       "1902                   False        attack  Not fleeing       False  \n",
       "1920                   False         other  Not fleeing       False  \n",
       "1943                   False        attack  Not fleeing       False  \n",
       "1945                   False        attack        Other       False  \n",
       "1958                   False        attack         Foot       False  \n",
       "1959                   False        attack          Car       False  \n",
       "1960                    True        attack  Not fleeing        True  \n",
       "1988                   False        attack         Foot       False  \n",
       "2002                   False         other          Car       False  \n",
       "2008                   False        attack         Foot       False  \n",
       "2036                   False        attack          Car       False  \n",
       "2045                   False        attack          Car       False  \n",
       "2051                   False        attack  Not fleeing       False  \n",
       "2056                   False         other  Not fleeing       False  \n",
       "2090                   False         other        Other       False  \n",
       "2102                   False        attack  Not fleeing       False  \n",
       "2104                    True        attack  Not fleeing        True  \n",
       "2121                   False        attack  Not fleeing       False  \n",
       "2123                    True         other          Car       False  \n",
       "2131                   False        attack          Car       False  \n",
       "2140                   False        attack  Not fleeing       False  \n",
       "\n",
       "[197 rows x 14 columns]"
      ]
     },
     "execution_count": 95,
     "metadata": {},
     "output_type": "execute_result"
    }
   ],
   "source": [
    "polkil.data[polkil.data.state == 'TX']"
   ]
  },
  {
   "cell_type": "code",
   "execution_count": 168,
   "metadata": {
    "collapsed": false
   },
   "outputs": [
    {
     "data": {
      "text/plain": [
       "<matplotlib.axes._subplots.AxesSubplot at 0x7fa66900b240>"
      ]
     },
     "execution_count": 168,
     "metadata": {},
     "output_type": "execute_result"
    },
    {
     "data": {
      "image/png": "[encoded data removed]",
      "text/plain": [
       "<matplotlib.figure.Figure at 0x7fa668fd5978>"
      ]
     },
     "metadata": {},
     "output_type": "display_data"
    }
   ],
   "source": [
    "polkil.bar_groups(['armed'])[-10:].plot.barh()"
   ]
  },
  {
   "cell_type": "code",
   "execution_count": 182,
   "metadata": {
    "collapsed": false
   },
   "outputs": [
    {
     "data": {
      "text/plain": [
       "array(['Dominican Republic', 'Mexico', 'Philippines', 'Greece', 'Japan',\n",
       "       'United States', 'Uruguay', 'Italy', 'East Germany (GDR)',\n",
       "       'Ethiopia', 'Guatemala', 'Venezuela', 'West Germany (FRG)',\n",
       "       'Switzerland', 'Jordan', 'Spain', 'Brazil', 'Egypt', 'Argentina',\n",
       "       'Lebanon', 'Ireland', 'Turkey', 'Paraguay', 'Iran',\n",
       "       'United Kingdom', 'Colombia', 'Bolivia', 'Nicaragua', 'Netherlands',\n",
       "       'Belgium', 'Israel', 'Canada', 'Australia', 'Pakistan', 'Zambia',\n",
       "       'Sweden', 'Costa Rica', 'South Yemen', 'Cambodia', 'Taiwan',\n",
       "       'Panama', 'Kuwait', 'West Bank and Gaza Strip', 'Austria',\n",
       "       'Czechoslovakia', 'India', 'France', 'South Vietnam', 'Algeria',\n",
       "       'El Salvador', 'Thailand', 'Haiti', 'Sudan', 'Morocco', 'Cyprus',\n",
       "       'Myanmar', 'Afghanistan', 'Peru', 'Chile', 'Honduras', 'Yugoslavia',\n",
       "       'Ecuador', 'New Zealand', 'Zaire', 'Portugal', 'Malaysia',\n",
       "       'Singapore', 'Botswana', 'Jamaica', 'Chad', 'North Yemen',\n",
       "       'Andorra', 'Syria', 'South Korea', 'United Arab Emirates',\n",
       "       'South Africa', 'Kenya', 'Iraq', 'Somalia', 'Tanzania', 'Sri Lanka',\n",
       "       'Namibia', 'Bahamas', 'Barbados', 'Trinidad and Tobago',\n",
       "       'Bangladesh', \"People's Republic of the Congo\", 'Angola',\n",
       "       'Mauritania', 'Saudi Arabia', 'Djibouti', 'Indonesia', 'Malta',\n",
       "       'Rhodesia', 'Soviet Union', 'Denmark', 'Western Sahara', 'Guyana',\n",
       "       'Mozambique', 'Tunisia', 'Uganda', 'Norway', 'Poland', 'Lesotho',\n",
       "       'Gabon', 'Libya', 'Bahrain', 'Nigeria', 'Hong Kong', 'Senegal',\n",
       "       'Zimbabwe', 'Guinea', 'Grenada', 'New Hebrides', 'Belize',\n",
       "       'Guadeloupe', 'Martinique', 'Vatican City', 'Albania',\n",
       "       'Central African Republic', 'Seychelles', 'Dominica', 'Qatar',\n",
       "       'Bulgaria', 'Suriname', 'Swaziland', 'Luxembourg', 'Iceland',\n",
       "       'French Guiana', 'Falkland Islands', 'Burkina Faso',\n",
       "       'New Caledonia', 'Romania', 'Niger', 'Nepal', 'Togo', 'Finland',\n",
       "       'Fiji', 'Ghana', 'Gibraltar', 'Mauritius', 'Hungary', 'Laos',\n",
       "       'Papua New Guinea', 'China', 'Liberia', 'Republic of the Congo',\n",
       "       'Mali', 'Germany', 'Yemen', 'Rwanda', 'Sierra Leone', 'Cameroon',\n",
       "       'Cuba', 'Croatia', 'Georgia', 'Azerbaijan', 'Madagascar',\n",
       "       'Lithuania', 'Burundi', 'Ukraine', 'Moldova', 'Armenia', 'Russia',\n",
       "       'Ivory Coast', 'Kazakhstan', 'Antigua and Barbuda',\n",
       "       'Bosnia-Herzegovina', 'Equatorial Guinea', 'Tajikistan', 'Malawi',\n",
       "       'Uzbekistan', 'Latvia', 'Brunei', 'Estonia', 'Vietnam', 'Comoros',\n",
       "       'Benin', 'Slovak Republic', 'Macedonia', 'Wallis and Futuna',\n",
       "       'Belarus', 'Czech Republic', 'Slovenia', 'Gambia', 'North Korea',\n",
       "       'Eritrea', 'St. Kitts and Nevis', 'French Polynesia', 'Macau',\n",
       "       'Kyrgyzstan', 'Vanuatu', 'Democratic Republic of the Congo',\n",
       "       'Kosovo', 'Solomon Islands', 'East Timor', 'St. Lucia',\n",
       "       'Guinea-Bissau', 'Montenegro', 'International', 'Turkmenistan',\n",
       "       'Serbia-Montenegro', 'Maldives', 'Bhutan', 'Serbia', 'South Sudan'], dtype=object)"
      ]
     },
     "execution_count": 182,
     "metadata": {},
     "output_type": "execute_result"
    }
   ],
   "source": [
    "terror.data.country_txt.unique()"
   ]
  },
  {
   "cell_type": "code",
   "execution_count": 187,
   "metadata": {
    "collapsed": false
   },
   "outputs": [
    {
     "data": {
      "text/plain": [
       "['name',\n",
       " 'date',\n",
       " 'manner_of_death',\n",
       " 'armed',\n",
       " 'gender',\n",
       " 'race',\n",
       " 'city',\n",
       " 'state',\n",
       " 'threat_level',\n",
       " 'flee']"
      ]
     },
     "execution_count": 187,
     "metadata": {},
     "output_type": "execute_result"
    }
   ],
   "source": [
    "polkil.columns_by_type('CATEGORY')"
   ]
  },
  {
   "cell_type": "code",
   "execution_count": 190,
   "metadata": {
    "collapsed": false
   },
   "outputs": [
    {
     "data": {
      "text/plain": [
       "['age', 'signs_of_mental_illness', 'body_camera']"
      ]
     },
     "execution_count": 190,
     "metadata": {},
     "output_type": "execute_result"
    }
   ],
   "source": [
    "polkil.columns_by_type(['INT', 'FLOAT'])\n",
    "\n"
   ]
  },
  {
   "cell_type": "code",
   "execution_count": 208,
   "metadata": {
    "collapsed": false
   },
   "outputs": [
    {
     "data": {
      "text/plain": [
       "<module 'diveindata' from '/home/walrus/diveindata/diveindata/__init__.py'>"
      ]
     },
     "execution_count": 208,
     "metadata": {},
     "output_type": "execute_result"
    }
   ],
   "source": [
    "imp.reload(dv)"
   ]
  },
  {
   "cell_type": "code",
   "execution_count": 191,
   "metadata": {
    "collapsed": false
   },
   "outputs": [
    {
     "data": {
      "text/plain": [
       "{'age': {'idxmin': 6.0,\n",
       "  'max': 86.0,\n",
       "  'mean': 36.48451643639829,\n",
       "  'min': 6.0,\n",
       "  'std': 12.873999758163912,\n",
       "  'sum': 76581.0,\n",
       "  'type': 'FLOAT',\n",
       "  'uniques': 72},\n",
       " 'armed': {'type': 'CATEGORY', 'uniques': 65},\n",
       " 'body_camera': {'idxmin': 0.0,\n",
       "  'max': 1.0,\n",
       "  'mean': 0.1069094304388422,\n",
       "  'min': 0.0,\n",
       "  'std': 0.30907021858111955,\n",
       "  'sum': 229.0,\n",
       "  'type': 'INT',\n",
       "  'uniques': 2},\n",
       " 'city': {'type': 'CATEGORY', 'uniques': 1247},\n",
       " 'date': {'type': 'CATEGORY', 'uniques': 739},\n",
       " 'flee': {'type': 'CATEGORY', 'uniques': 5},\n",
       " 'gender': {'type': 'CATEGORY', 'uniques': 3},\n",
       " 'id': {'type': 'UNIQUE', 'uniques': 2142},\n",
       " 'manner_of_death': {'type': 'CATEGORY', 'uniques': 2},\n",
       " 'name': {'type': 'CATEGORY', 'uniques': 2119},\n",
       " 'race': {'type': 'CATEGORY', 'uniques': 7},\n",
       " 'signs_of_mental_illness': {'idxmin': 0.0,\n",
       "  'max': 1.0,\n",
       "  'mean': 0.24743230625583568,\n",
       "  'min': 0.0,\n",
       "  'std': 0.43162082114768874,\n",
       "  'sum': 530.0,\n",
       "  'type': 'INT',\n",
       "  'uniques': 2},\n",
       " 'state': {'type': 'CATEGORY', 'uniques': 51},\n",
       " 'threat_level': {'type': 'CATEGORY', 'uniques': 3}}"
      ]
     },
     "execution_count": 191,
     "metadata": {},
     "output_type": "execute_result"
    }
   ],
   "source": [
    "polkil.columns"
   ]
  },
  {
   "cell_type": "code",
   "execution_count": 274,
   "metadata": {
    "collapsed": false
   },
   "outputs": [
    {
     "ename": "SyntaxError",
     "evalue": "invalid syntax (<unknown>, line 1)",
     "output_type": "error",
     "traceback": [
      "\u001b[0;36m  File \u001b[0;32m\"<unknown>\"\u001b[0;36m, line \u001b[0;32m1\u001b[0m\n\u001b[0;31m    (state ==\"CA\"or state ==\"TX\")and\u001b[0m\n\u001b[0m                                     ^\u001b[0m\n\u001b[0;31mSyntaxError\u001b[0m\u001b[0;31m:\u001b[0m invalid syntax\n"
     ]
    }
   ],
   "source": [
    "polkil.bar_groups([('state', ['CA','TX']), 'armed']).plot.barh()"
   ]
  },
  {
   "cell_type": "code",
   "execution_count": 302,
   "metadata": {
    "collapsed": false
   },
   "outputs": [
    {
     "data": {
      "text/plain": [
       "gun                                 1173\n",
       "knife                                319\n",
       "unarmed                              155\n",
       "vehicle                              136\n",
       "undetermined                         101\n",
       "toy weapon                            92\n",
       "machete                               16\n",
       "unknown weapon                        14\n",
       "sword                                  8\n",
       "baseball bat                           7\n",
       "Taser                                  7\n",
       "box cutter                             7\n",
       "metal pipe                             7\n",
       "hammer                                 7\n",
       "ax                                     6\n",
       "hatchet                                6\n",
       "gun and knife                          5\n",
       "crossbow                               4\n",
       "screwdriver                            4\n",
       "guns and explosives                    3\n",
       "metal stick                            3\n",
       "scissors                               3\n",
       "blunt object                           3\n",
       "metal pole                             2\n",
       "baton                                  2\n",
       "piece of wood                          2\n",
       "meat cleaver                           2\n",
       "brick                                  2\n",
       "shovel                                 2\n",
       "beer bottle                            2\n",
       "                                    ... \n",
       "hand torch                             1\n",
       "hatchet and gun                        1\n",
       "bean-bag gun                           1\n",
       "chain                                  1\n",
       "lawn mower blade                       1\n",
       "pick-axe                               1\n",
       "crowbar                                1\n",
       "flashlight                             1\n",
       "machete and gun                        1\n",
       "straight edge razor                    1\n",
       "pole                                   1\n",
       "motorcycle                             1\n",
       "bayonet                                1\n",
       "pipe                                   1\n",
       "contractor's level                     1\n",
       "cordless drill                         1\n",
       "garden tool                            1\n",
       "stapler                                1\n",
       "sharp object                           1\n",
       "tire iron                              1\n",
       "pole and knife                         1\n",
       "glass shard                            1\n",
       "oar                                    1\n",
       "pitchfork                              1\n",
       "carjack                                1\n",
       "metal object                           1\n",
       "spear                                  1\n",
       "metal hand tool                        1\n",
       "nail gun                               1\n",
       "baseball bat and fireplace poker       1\n",
       "Name: armed, dtype: int64"
      ]
     },
     "execution_count": 302,
     "metadata": {},
     "output_type": "execute_result"
    }
   ],
   "source": [
    "polkil.data.armed.value_counts()"
   ]
  },
  {
   "cell_type": "code",
   "execution_count": 298,
   "metadata": {
    "collapsed": false
   },
   "outputs": [
    {
     "name": "stdout",
     "output_type": "stream",
     "text": [
      "data.query('(armed == \"shovel\" | armed == \"toy weapon\")&(state == \"CA\" | state == \"TX\")').groupby(['armed', 'state']).size().sort_values(na_position='first').unstack(level=0).sort_values(by=['shovel', 'toy weapon'], na_position='first')\n"
     ]
    },
    {
     "data": {
      "text/plain": [
       "<matplotlib.axes._subplots.AxesSubplot at 0x7fa66d251a90>"
      ]
     },
     "execution_count": 298,
     "metadata": {},
     "output_type": "execute_result"
    },
    {
     "data": {
      "image/png": "[encoded data removed]",
      "text/plain": [
       "<matplotlib.figure.Figure at 0x7fa66edf1358>"
      ]
     },
     "metadata": {},
     "output_type": "display_data"
    }
   ],
   "source": [
    "pg = polkil.bar_groups([('armed', ['shovel', 'toy weapon']), ('state', ['CA','TX'])])\n",
    "pg.plot.barh()"
   ]
  },
  {
   "cell_type": "code",
   "execution_count": 277,
   "metadata": {
    "collapsed": true
   },
   "outputs": [],
   "source": [
    "polkil = dv.DataInfo('/home/walrus/redi/data-analysis/Project/database.csv')"
   ]
  },
  {
   "cell_type": "code",
   "execution_count": 276,
   "metadata": {
    "collapsed": false
   },
   "outputs": [
    {
     "data": {
      "text/plain": [
       "<module 'diveindata' from '/home/walrus/diveindata/diveindata/__init__.py'>"
      ]
     },
     "execution_count": 276,
     "metadata": {},
     "output_type": "execute_result"
    }
   ],
   "source": [
    "imp.reload(dv)"
   ]
  },
  {
   "cell_type": "code",
   "execution_count": 268,
   "metadata": {
    "collapsed": false
   },
   "outputs": [
    {
     "ename": "TypeError",
     "evalue": "sort_values() got an unexpected keyword argument 'by'",
     "output_type": "error",
     "traceback": [
      "\u001b[0;31m---------------------------------------------------------------------------\u001b[0m",
      "\u001b[0;31mTypeError\u001b[0m                                 Traceback (most recent call last)",
      "\u001b[0;32m<ipython-input-268-fcd8e6da1abd>\u001b[0m in \u001b[0;36m<module>\u001b[0;34m()\u001b[0m\n\u001b[0;32m----> 1\u001b[0;31m \u001b[0mpolkil\u001b[0m\u001b[0;34m.\u001b[0m\u001b[0mdata\u001b[0m\u001b[0;34m.\u001b[0m\u001b[0mquery\u001b[0m\u001b[0;34m(\u001b[0m\u001b[0;34m'(state == \"CA\" | state == \"TX\")'\u001b[0m\u001b[0;34m)\u001b[0m\u001b[0;34m.\u001b[0m\u001b[0mgroupby\u001b[0m\u001b[0;34m(\u001b[0m\u001b[0;34m[\u001b[0m\u001b[0;34m'state'\u001b[0m\u001b[0;34m,\u001b[0m \u001b[0;34m'armed'\u001b[0m\u001b[0;34m]\u001b[0m\u001b[0;34m)\u001b[0m\u001b[0;34m.\u001b[0m\u001b[0msize\u001b[0m\u001b[0;34m(\u001b[0m\u001b[0;34m)\u001b[0m\u001b[0;34m.\u001b[0m\u001b[0msort_values\u001b[0m\u001b[0;34m(\u001b[0m\u001b[0mby\u001b[0m\u001b[0;34m=\u001b[0m\u001b[0;34m[\u001b[0m\u001b[0;34m'CA'\u001b[0m\u001b[0;34m,\u001b[0m \u001b[0;34m'TX'\u001b[0m\u001b[0;34m]\u001b[0m\u001b[0;34m,\u001b[0m\u001b[0mna_position\u001b[0m\u001b[0;34m=\u001b[0m\u001b[0;34m'first'\u001b[0m\u001b[0;34m)\u001b[0m\u001b[0;34m.\u001b[0m\u001b[0munstack\u001b[0m\u001b[0;34m(\u001b[0m\u001b[0mlevel\u001b[0m\u001b[0;34m=\u001b[0m\u001b[0;36m0\u001b[0m\u001b[0;34m)\u001b[0m\u001b[0;34m\u001b[0m\u001b[0m\n\u001b[0m",
      "\u001b[0;31mTypeError\u001b[0m: sort_values() got an unexpected keyword argument 'by'"
     ]
    }
   ],
   "source": [
    "polkil.data.query('(state == \"CA\" | state == \"TX\")').groupby(['state', 'armed']).size().sort_values(by=['CA', 'TX'],na_position='first').unstack(level=0)"
   ]
  },
  {
   "cell_type": "code",
   "execution_count": 237,
   "metadata": {
    "collapsed": false
   },
   "outputs": [],
   "source": [
    "pg = polkil.data.query('(state == \"CA\" | state == \"TX\")').groupby(['state', 'armed']).size().unstack(level=0)"
   ]
  },
  {
   "cell_type": "code",
   "execution_count": 242,
   "metadata": {
    "collapsed": false
   },
   "outputs": [
    {
     "data": {
      "text/plain": [
       "<matplotlib.axes._subplots.AxesSubplot at 0x7fa66f82af98>"
      ]
     },
     "execution_count": 242,
     "metadata": {},
     "output_type": "execute_result"
    },
    {
     "data": {
      "image/png": "[encoded data removed]",
      "text/plain": [
       "<matplotlib.figure.Figure at 0x7fa66b76ee48>"
      ]
     },
     "metadata": {},
     "output_type": "display_data"
    }
   ],
   "source": [
    "pg.sort_values(by=['TX', 'CA'], na_position='first').plot.barh()"
   ]
  },
  {
   "cell_type": "code",
   "execution_count": 245,
   "metadata": {
    "collapsed": false
   },
   "outputs": [
    {
     "data": {
      "text/plain": [
       "['CA', 'TX']"
      ]
     },
     "execution_count": 245,
     "metadata": {},
     "output_type": "execute_result"
    }
   ],
   "source": [
    "list(pg.columns)"
   ]
  },
  {
   "cell_type": "code",
   "execution_count": 246,
   "metadata": {
    "collapsed": true
   },
   "outputs": [],
   "source": [
    "pg = polkil.data.query('(state == \"CA\" | state == \"TX\")').groupby(['state', 'armed']).size().unstack(level=0)"
   ]
  },
  {
   "cell_type": "code",
   "execution_count": 255,
   "metadata": {
    "collapsed": false
   },
   "outputs": [
    {
     "data": {
      "text/plain": [
       "<matplotlib.axes._subplots.AxesSubplot at 0x7fa66c3f57f0>"
      ]
     },
     "execution_count": 255,
     "metadata": {},
     "output_type": "execute_result"
    },
    {
     "data": {
      "image/png": "[encoded data removed]",
      "text/plain": [
       "<matplotlib.figure.Figure at 0x7fa66c40a710>"
      ]
     },
     "metadata": {},
     "output_type": "display_data"
    }
   ],
   "source": [
    "polkil.data.query('(state == \"CA\" | state == \"TX\")').groupby(['state', 'armed']).size().sort_values(na_position='first').unstack(level=0).sort_values(by=['CA', 'TX'], na_position='first').plot.barh()"
   ]
  },
  {
   "cell_type": "code",
   "execution_count": null,
   "metadata": {
    "collapsed": true
   },
   "outputs": [],
   "source": []
  }
 ],
 "metadata": {
  "kernelspec": {
   "display_name": "Python 3",
   "language": "python",
   "name": "python3"
  },
  "language_info": {
   "codemirror_mode": {
    "name": "ipython",
    "version": 3
   },
   "file_extension": ".py",
   "mimetype": "text/x-python",
   "name": "python",
   "nbconvert_exporter": "python",
   "pygments_lexer": "ipython3",
   "version": "3.5.2"
  }
 },
 "nbformat": 4,
 "nbformat_minor": 2
}
